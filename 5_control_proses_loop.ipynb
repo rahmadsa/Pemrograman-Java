{
  "nbformat": 4,
  "nbformat_minor": 0,
  "metadata": {
    "colab": {
      "name": "5_control_proses_loop.ipynb",
      "provenance": [],
      "collapsed_sections": [],
      "toc_visible": true
    },
    "kernelspec": {
      "name": "java",
      "display_name": "Java"
    },
    "language_info": {
      "name": "java"
    }
  },
  "cells": [
    {
      "cell_type": "code",
      "metadata": {
        "id": "iikHUtEExLIP"
      },
      "source": [
        ""
      ],
      "execution_count": null,
      "outputs": []
    },
    {
      "cell_type": "markdown",
      "metadata": {
        "id": "bUB6YkbKzq6e"
      },
      "source": [
        "\n",
        "\n",
        "---\n",
        "\n"
      ]
    },
    {
      "cell_type": "markdown",
      "metadata": {
        "id": "7QbClP-5yKVi"
      },
      "source": [
        "#Petunjuk Penting !!\n",
        "\n",
        "## Lakukan Inisialisasi Java Kompailer untuk Google Colab\n",
        "Notebook ini menggunakan Java di Google Colaboratory sebagai kompailer. Untuk itu lakukan dua langkah dibawah ini sebelum anda bekerja dengan notebook ini\n",
        "\n",
        "1. Jalankan perintah pada cell diabawah ini (klik tombol run atau tekan tombol `Shift`+`Enter` secara bersamaan)"
      ]
    },
    {
      "cell_type": "code",
      "metadata": {
        "id": "lUr92Wb1yzXm"
      },
      "source": [
        "//lakukan load java enggine"
      ],
      "execution_count": null,
      "outputs": []
    },
    {
      "cell_type": "markdown",
      "metadata": {
        "id": "05gvKabVzOQD"
      },
      "source": [
        "2. Kemudian refresh halaman notebook (page) (tekan tombol `F5`) atau that. atau tekan tombol refresh/reload. "
      ]
    },
    {
      "cell_type": "markdown",
      "metadata": {
        "id": "fizVCMLKzf8A"
      },
      "source": [
        "---\n"
      ]
    },
    {
      "cell_type": "markdown",
      "metadata": {
        "id": "VD3Bt8LiFs-E"
      },
      "source": [
        "# 7. Struktur Kontrol Perulangan\n",
        "\n",
        "## 7.1 Tujuan\n",
        "Pada pemrograman terstruktur, dimana setiap pernyataan dieksekusi setelah pernyataan sebelumnya sesuai dengan urutannya. Pada bagian ini, kita akan mempelajari tentang struktur kontrol dimana kita dapat mengubah cara eksekusi pada pernyataan yang dibuat di program kita.\n",
        "\n",
        "Pada akhir pembahasan, diharapkan pembaca dapat :\n",
        "\n",
        "1. Menggunakan struktur kontrol pengulangan (*while, do-while, for*) untuk mengeksekusi blok tertentu pada program beberapa kali.\n",
        "\n",
        "2. Menggunakan pernyataan-pernyataan percabangan (*break, continue, return*) yang digunakan untuk mengatur arah dari aliran program.\n",
        "\n"
      ]
    },
    {
      "cell_type": "markdown",
      "metadata": {
        "id": "RnRRueSnWA_L"
      },
      "source": [
        "##7.2 Struktur Kontrol Perulangan While...loop\n",
        "\n",
        "Struktur kontrol pengulangan adalah berupa pernyataan dari Java yang mengijinkan kita untuk mengeksekusi blok code berulang-ulang sesuai dengan jumlah tertentu yang diinginkan. Ada tiga macam jenis dari struktur kontrol pengulangan yaitu *while, do-while,* dan *for-loops*.\n",
        "\n",
        "###7.2.1 Struktur Perulangan while..loop\n",
        "\n",
        "Pernyataan while loop adalah pernyataan atau blok pernyataan yang diulang-ulang sampai mencapai kondisi yang cocok.\n",
        "\n",
        "Bentuk pernyataan while,\n",
        "``` javascript\n",
        "  while( boolean_expression ){\n",
        "\n",
        "    statement1;\n",
        "    statement2;\n",
        "    . . .\n",
        "\n",
        "  }\n",
        "```\n",
        "Pernyataan di dalam while loop akan dieksekusi berulang-ulang selama kondisi boolean_expression bernilai benar (true).\n",
        "\n",
        "Contoh, pada kode dibawah ini,\n",
        "``` javascript\n",
        "int i = 4;\n",
        "\n",
        "while ( i > 0 ){\n",
        "\n",
        "  System.out.print(i);\n",
        "  i--;\n",
        "\n",
        "}\n",
        "``` \n",
        "Contoh diatas akan mencetak angka 4 3 2 1 pada layar.\n",
        "\n",
        "Perlu dicatat jika bagian i--; dihilangkan, akan menghasilkan pengulangan yang terus menerus (*infinite loop*). \n",
        "\n",
        "Sehingga, ketika menggunakan while loop atau bentuk pengulangan yang lain, pastikan Anda memberikan pernyataan yang membuat pengulangan berhenti pada suatu kondisi.\n",
        "\n"
      ]
    },
    {
      "cell_type": "markdown",
      "metadata": {
        "id": "UVlhlVwtkIfk"
      },
      "source": [
        "###7.2.2 Contoh I Perulangan while..loop \n",
        "Contoh perulangan ini dapat melakukan perulangan dengan *counted loop*.\n",
        "``` javascript\n",
        "int x = 0;\n",
        "while (x<10)\n",
        "{\n",
        "System.out.println(x);\n",
        "x++;\n",
        "}\n",
        "```\n"
      ]
    },
    {
      "cell_type": "markdown",
      "metadata": {
        "id": "YKET8uWVkOEf"
      },
      "source": [
        "###7.2.3 Contoh II Perulangan infinite while..loop \n",
        "\n",
        "**Bentuk 1**\n",
        "``` javascript\n",
        "//infinite loop\n",
        "while(true){\n",
        "\n",
        "    System.out.println(\"hello\");\n",
        "\n",
        "}\n",
        "```\n",
        ">**Catatan**: pastikan melakukan increment (i++) terhadap variabel counter. Karena kalau tidak, perulangannya akan terus-menerus dilakukan sampai komputernya hang.\n",
        "\n",
        "**Bentuk 2**\n",
        "\n",
        "``` javascript\n",
        "// statement is not even executed\n",
        "\n",
        "while (false)\n",
        "{\n",
        "    System.out.println(\"hello\");\n",
        "}\n",
        "```\n",
        "**Penjelasan:**\n",
        "\n",
        "* kondisi bisa kita isi dengan perbandingan maupun variabel boolean. Kondisi ini hanya memiliki nilai true dan flase.\n",
        "* Perulangan while akan berhenti sampai kondisi bernilai false.\n",
        "\n",
        "``` javascript\n",
        "       // membuat variabel dan scanner\n",
        "        boolean ulangi = true;\n",
        "        int counter = 0;\n",
        "        String jawab;\n",
        "        Scanner scan = new Scanner(System.in);\n",
        "\n",
        "        while( ulangi ) {\n",
        "            System.out.println(\"Apakah anda ingin keluar?\");\n",
        "            System.out.print(\"Jawab [ya/tidak]> \");\n",
        "\n",
        "            jawab = scan.nextLine();\n",
        "\n",
        "            // cek jawabnnya, kalau ya maka berhenti mengulang\n",
        "            if( jawab.equalsIgnoreCase(\"ya\") ){\n",
        "                ulangi = false;\n",
        "            }\n",
        "\n",
        "            counter++;\n",
        "        }\n",
        "\n",
        "        System.out.println(\"Perulangan yang dilakukan sebanyak \" + counter + \" kali\");\n",
        "```"
      ]
    },
    {
      "cell_type": "code",
      "metadata": {
        "id": "2Z3StzAmTZb9"
      },
      "source": [
        "//"
      ],
      "execution_count": null,
      "outputs": []
    },
    {
      "cell_type": "markdown",
      "metadata": {
        "id": "i54KKvDl05xi"
      },
      "source": [
        "##7.3 Struktur Kontrol Perulangan do...while loop\n",
        "\n",
        "Cara kerja perulangan Do/While sebenarnya sama seperti perulangan While.\n",
        "\n",
        "Bedanya, Do/While melakukan satu kali perulangan dulu. Kemudian mengecek kondisinya.\n",
        "\n",
        " Pernyataan di dalam do-while loop akan dieksekusi beberapa kali selama kondisi bernilai benar(true).\n",
        "\n",
        "Perbedaan antara while dan do-while loop adalah dimana pernyataan di dalam do-while loop akan dieksekusi sedikitnya satu kali.\n",
        "\n",
        "Struktur penulisannya seperti ini:\n",
        "``` javascript\n",
        "do {\n",
        "    // blok kode yang akan diulang\n",
        "    ..............\n",
        "} while (kondisi);\n",
        "```\n",
        "Jadi kerjakan dulu **(Do)**, baru di cek kondisinya **while( kondisi )**. Kalau kondisi bernilai ture, maka lanjutkan perulangan.\n",
        "\n",
        "``` javascript\n",
        "        // inisialisasi variabel\n",
        "        int i = 0;\n",
        "\n",
        "        do {\n",
        "            System.out.println(\"perulangan ke-\" + i);\n",
        "            i++;\n",
        "        } while ( i <= 10);\n",
        "```"
      ]
    },
    {
      "cell_type": "code",
      "metadata": {
        "id": "qJQ4qz-12cEd"
      },
      "source": [
        "\n"
      ],
      "execution_count": null,
      "outputs": []
    },
    {
      "cell_type": "markdown",
      "metadata": {
        "id": "RcbPuR103aus"
      },
      "source": [
        "##7.4 Perulangan For\n",
        "\n",
        "Pernyataan for loop memiliki kondisi hampir mirip seperti struktur pengulangan sebelumnya yaitu melakukan pengulangan untuk mengeksekusi kode yang sama sebanyak jumlah yang telah ditentukan.\n",
        "\n",
        "Bentuk dari for loop,\n",
        "``` javascript\n",
        "for (InitializationExpression; LoopCondition; StepExpression){ statement1;\n",
        "    statement2;\n",
        "    . . .\n",
        "\n",
        "}\n",
        "```\n",
        "Dengan penjelasan sebagai berikut.\n",
        "* InitializationExpression – inisialisasi dari variabel loop.\n",
        "* LoopCondition - membandingkan variabel loop pada nilai batas tertentu. \n",
        "*StepExpression\t- melakukan update pada variabel loop.\n",
        "\n",
        "Berikut ini adalah contoh dari for loop,\n",
        "\n",
        "\n",
        "berikut ini adalah Contoh program dengan Format penulisan perulangan **For** di java adalah sebagai berikut:\n",
        "``` javascript\n",
        "for( int hitungan = 0; hitungan <= 10; hitungan++ ){\n",
        "    // blok kode yang akan diulang\n",
        "}\n",
        "```\n",
        "**Penjelasan:**\n",
        "* variabel hitungan tugasnya untuk menyimpan hitungan pengulangan.\n",
        "* hitungan <= 10 artinya selama nilai hitungannya lebih kecil atau sama dengan 10, maka pengulangan akan terus dilakukan. Dengan kata lain, perualangan ini akan mengulang sebanyak 10 kali.\n",
        "* hitungan++ fungsinya untuk menambah satu (+1) nilai hitungan peda setiap pengulangan.\n",
        "*Blok kode For dimulai dengan tanda ‘{’ dan diakhiri dengan ‘}’.\n",
        "\n"
      ]
    },
    {
      "cell_type": "markdown",
      "metadata": {
        "id": "5pQv3YY9Wr4Z"
      },
      "source": [
        " ``` javascript\n",
        "        for(int i=0; i <= 10; i++){\n",
        "            System.out.print( i + \" \" );\n",
        "        }\n",
        "``` "
      ]
    },
    {
      "cell_type": "code",
      "metadata": {
        "id": "dBdUyqz3Wq8b"
      },
      "source": [
        ""
      ],
      "execution_count": null,
      "outputs": []
    },
    {
      "cell_type": "markdown",
      "metadata": {
        "id": "kbh1dLA1GPVk"
      },
      "source": [
        "##7.5 Pernyataan Continue\n",
        "**Continue** merupakan pernyataan jika suatu kondisi tertentu terjadi maka akan langsung dilanjutkan dengan iterasi selanjutnya dalam sebuah looping atau perulangan.\n",
        "\n",
        "Contoh 1\n",
        "``` javascript\n",
        "\n",
        "for(int a = 0;a <= 8;a++){\n",
        "    if(a == 4){\n",
        "    continue;\n",
        "}\n",
        "System.out.println(a);\n",
        "}\n",
        "```\n",
        "kata kunci **Continue** tidak akan menghentikan program saat dieksekusi misalnya menggunakan *for loops* tapi hanya akan mengskip atau melewatinya saja."
      ]
    },
    {
      "cell_type": "markdown",
      "metadata": {
        "id": "V6YizNTwGkZW"
      },
      "source": [
        "##7.6 Pernyataan Break\n",
        "Break adalah sebuah pernyataan yang di gunakan untuk melompat dari sebuah pernyataan looping, maupun kondisi if else dan switch case\n",
        "\n",
        "Contoh 1\n",
        "``` javascript\n",
        "for(int a = 0;a <= 8;a++){\n",
        "    if(a == 6){\n",
        "    break;\n",
        "}\n",
        "System.out.println(a);\n",
        "}\n",
        "``` \n",
        "\n",
        "**Break** pada umumnya digunakan dalam java untuk mengakhiri sebuah eksekusi dalam statement, dengan menggunakan kata kunci Break, pernyataan didalam statement akan langsung dipaksa berhenti, jadi kita harus membuat sebuah kondisi. kapan program akan berhenti.\n"
      ]
    },
    {
      "cell_type": "markdown",
      "metadata": {
        "id": "wql3SQ4-Gtm0"
      },
      "source": [
        "##7.7 Pernyataan Return\n",
        " **Return** merupakan salah satu keyword yang digunakan untuk menyelesaikan eksekusi suatu metode dan dapat digunakan untuk mengembalikan nilai dari suatu metode\n",
        "``` javascript\n",
        "int a = 0;\n",
        "while(a <= 10){\n",
        "    if(a == 5){\n",
        "              return;\n",
        "        }   \n",
        "    System.out.println(\"Hasil \" + a);\n",
        "    a++;\n",
        "}\n",
        "```"
      ]
    },
    {
      "cell_type": "markdown",
      "metadata": {
        "id": "jOubBl-jM2Yl"
      },
      "source": [
        "## 7.8 Video Materi\n",
        "\n",
        "\n",
        "<a href=\"http://www.youtube.com/watch?feature=player_embedded&v=T3ff57rxTa8\n",
        "\" target=\"_blank\"><img src=\"http://img.youtube.com/vi/T3ff57rxTa8/0.jpg\" \n",
        "alt=\"Exeception Handling\" width=\"480\" height=\"360\" border=\"10\" /></a>\n",
        "\n",
        "https://www.youtube.com/watch?v=T3ff57rxTa8\n"
      ]
    },
    {
      "cell_type": "markdown",
      "metadata": {
        "id": "1BF-A0oPrBL_"
      },
      "source": [
        "## **Tugas VII**\n",
        "\n",
        "Buat sebuah program yang mencetak nama Anda selama seratus kali. Buat tiga versi program ini menggunakan while loop, do while dan for-loop.\n",
        "\n",
        "```\n"
      ]
    },
    {
      "cell_type": "code",
      "metadata": {
        "id": "qnnQqrF05px3"
      },
      "source": [
        "//Jawaban Tugas VII"
      ],
      "execution_count": null,
      "outputs": []
    },
    {
      "cell_type": "code",
      "metadata": {
        "id": "KVjwSfMlbEdb"
      },
      "source": [
        "//Jawaban Tugas VII"
      ],
      "execution_count": null,
      "outputs": []
    },
    {
      "cell_type": "code",
      "metadata": {
        "id": "TTx4wvnnbE5P"
      },
      "source": [
        "//Jawaban Tugas VII"
      ],
      "execution_count": null,
      "outputs": []
    },
    {
      "cell_type": "markdown",
      "metadata": {
        "id": "zT6nxQWwvlLR"
      },
      "source": [
        "## Soal UTS"
      ]
    },
    {
      "cell_type": "markdown",
      "metadata": {
        "id": "oQcUp680vy42"
      },
      "source": [
        "-- Tidak Ada Soal-"
      ]
    }
  ]
}
