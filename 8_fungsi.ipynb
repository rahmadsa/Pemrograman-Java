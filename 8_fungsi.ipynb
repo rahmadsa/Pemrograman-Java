{
  "nbformat": 4,
  "nbformat_minor": 0,
  "metadata": {
    "colab": {
      "name": "8_fungsi.ipynb",
      "provenance": [],
      "collapsed_sections": []
    },
    "kernelspec": {
      "display_name": "Java",
      "language": "java",
      "name": "java"
    },
    "language_info": {
      "codemirror_mode": "text/x-java",
      "file_extension": ".java",
      "mimetype": "",
      "name": "Java",
      "nbconverter_exporter": "",
      "version": "15.0.2"
    },
    "toc": {
      "base_numbering": 1,
      "nav_menu": {},
      "number_sections": false,
      "sideBar": false,
      "skip_h1_title": false,
      "title_cell": "Table of Contents",
      "title_sidebar": "Contents",
      "toc_cell": false,
      "toc_position": {},
      "toc_section_display": false,
      "toc_window_display": false
    }
  },
  "cells": [
    {
      "cell_type": "code",
      "metadata": {
        "id": "iikHUtEExLIP"
      },
      "source": [
        ""
      ],
      "execution_count": null,
      "outputs": []
    },
    {
      "cell_type": "markdown",
      "metadata": {
        "id": "bUB6YkbKzq6e"
      },
      "source": [
        "\n",
        "\n",
        "---\n",
        "\n"
      ]
    },
    {
      "cell_type": "markdown",
      "metadata": {
        "id": "7QbClP-5yKVi"
      },
      "source": [
        "### Petunjuk Penting !!\n",
        "\n",
        "####  Lakukan Inisialisasi Java Kompailer untuk Google Colab\n",
        "Notebook ini menggunakan Java di Google Colaboratory sebagai kompailer. Untuk itu lakukan dua langkah dibawah ini sebelum anda bekerja dengan notebook ini\n",
        "\n",
        "1. Jalankan perintah pada cell diabawah ini (klik tombol run atau tekan tombol `Shift`+`Enter` secara bersamaan)"
      ]
    },
    {
      "cell_type": "code",
      "metadata": {
        "id": "lUr92Wb1yzXm"
      },
      "source": [
        "! init jdk command please.."
      ],
      "execution_count": null,
      "outputs": []
    },
    {
      "cell_type": "markdown",
      "metadata": {
        "id": "05gvKabVzOQD"
      },
      "source": [
        "2. Kemudian refresh halaman notebook (page) (tekan tombol `F5`) atau that. atau tekan tombol refresh/reload. "
      ]
    },
    {
      "cell_type": "markdown",
      "metadata": {
        "id": "fizVCMLKzf8A"
      },
      "source": [
        "---\n"
      ]
    },
    {
      "cell_type": "markdown",
      "metadata": {
        "id": "VD3Bt8LiFs-E"
      },
      "source": [
        "# 10. Fungsi\n",
        "\n",
        "Pada pemrograman terstruktur, dimana setiap pernyataan dieksekusi setelah pernyataan sebelumnya sesuai dengan urutannya. Pada bagian ini, kita akan mempelajari tentang struktur kontrol dimana kita dapat mengubah cara eksekusi pada pernyataan yang dibuat di program kita.\n",
        "## 10.1 Tujuan\n",
        "Dapat Penyusunan program yang terstruktur merupakan salah satu syarat program yang baik. Dengan pemrograman yang terstruktur berarti menerapkan memiliki racangan yang sistematis, mudah dibaca dan dipahami. Sehingga modeh dikoreksi jika terjadi kesalahan atau error.\n",
        "\n",
        "\n"
      ]
    },
    {
      "cell_type": "markdown",
      "metadata": {
        "id": "TwESgV2CN9o4"
      },
      "source": [
        "## 10.2 Pengenalan Fungsi\n",
        "\n",
        "\n",
        "\n",
        "Salah satu metode penyusunan program terstruktur adalah Modular Programming atau pemrograman modular. Metode ini menggunakan cara dengan memecah suatu masalah kedalam beberapa kelompok masalah kecil (modular). Sehingga program atau masalah tersebut menjadi lebih sederhana, mudah dipahami dan mudah dikoreksi jika terjadi kesalahan dan mudah dalam perawatan (maintenance).\n",
        "\n"
      ]
    },
    {
      "cell_type": "markdown",
      "metadata": {
        "id": "i6KepPmSN9o6"
      },
      "source": [
        "## 10.3 Definisi Prosedur, Fungsi, dan Method\n",
        "\n",
        "Fungsi (atau *Function*) di bahasa pemograman adalah kode program yang dirancang untuk menyelesaikan sebuah tugas tertentu, dan merupakan bagian dari program utama. Kita dapat membuat fungsi sendiri, atau menggunakan fungsi yang dibuat oleh programmer lain.\n",
        "\n",
        "Pada penyusunan program modular ini kita diharuskan menggunakan konsep function/fungsi.\n",
        "Dengan fungsi, kita dapat memecah program besar menjadi sub program yang lebih sederhana.\n",
        "\n",
        "Masing-masing fitur pada program dapat kita buat dalam satu fungsi. Pada saat kita membutuhkan fitur tersebut, kita tinggal panggil fungsinya saja.\n",
        "\n",
        "Dengan fungsi kita bisa mengatasi redundansi kode atau kode yang ditulis berulang — ulang. Karena kode yang berulang — ulang dapat kita buat fungsinya."
      ]
    },
    {
      "cell_type": "markdown",
      "metadata": {
        "id": "DTavGk9ZN9o8"
      },
      "source": [
        "## 10.4  Struktur Fungsi di Java\n",
        "\n",
        "Struktur dasarnya seperti ini:\n",
        "\n",
        "```javascript\n",
        "\n",
        "[TypeDataKembalian] namaFungsi(){\n",
        "    // statemen atau kode fungsi\n",
        "}\n",
        "\n",
        "```\n",
        "**Penjelasan:**\n",
        "\n",
        "**TypeDataKembalian** adalah tipe data dari nilai yang dikembalikan setelah fungsi dieksekusi.\n",
        "\n",
        "**namaFungsi()** adalah nama fungsinya. Biasanya ditulis dengan huruf kecil di awalnya. Lalu, kalau terdapat lebih dari satu suku kata, huruf awal di kata kedua ditulis kapital.\n",
        "\n"
      ]
    },
    {
      "cell_type": "code",
      "metadata": {
        "id": "VaUavCVVTqEB"
      },
      "source": [
        "void ucapSalamPagi(){\n",
        "    System.out.println(\"Selamat Pagi\");\n",
        "}\n",
        "\n",
        "//Memanggil fungsi ucapSalamPagi()\n",
        "ucapSalamPagi();"
      ],
      "execution_count": null,
      "outputs": []
    },
    {
      "cell_type": "markdown",
      "metadata": {
        "id": "-ai8koRSN9o9"
      },
      "source": [
        "## 10.5 Membuat dan Memanggil Fungsi\n",
        "Berikut ini adalah contoh fungsi\n",
        "\n",
        "\n",
        "```javascript\n",
        "\n",
        "void ucapSalamPagi(){\n",
        "    System.out.println(\"Selamat Pagi\");\n",
        "}\n",
        "```\n",
        "\n",
        "Setelah kita buat fungsinya, kita bisa memanggilnya seperti ini:\n",
        "```javascript\n",
        "nama_fungsi()\n",
        "```\n",
        "Sebagai contoh, coba tulis kode program berikut:\n",
        "Pada **Program 10.1** Fungsi ucapSalamPagi().\n",
        "\n",
        "```javascript\n",
        "//Membuat fungsi ucapSalamPagi()\n",
        "void ucapSalamPagi(){\n",
        "    System.out.println(\"Selamat Pagi\");\n",
        "}\n",
        "\n",
        "//Memanggil fungsi ucapSalamPagi()\n",
        "ucapSalamPagi();\n",
        "```\n",
        "cobalah lakukan eksekusi kode **Program 10.1** berikut ini amatilah hasilnya"
      ]
    },
    {
      "cell_type": "code",
      "metadata": {
        "id": "nq94nRHrwsp7"
      },
      "source": [
        "//Membuat fungsi ucapSalamPagi()\n",
        "void ucapSalamPagi(){\n",
        "    System.out.println(\"Selamat Pagi\");\n",
        "}\n",
        "\n",
        "//Memanggil fungsi ucapSalamPagi()\n",
        "ucapSalamPagi();"
      ],
      "execution_count": null,
      "outputs": []
    },
    {
      "cell_type": "markdown",
      "metadata": {
        "id": "C55oqBgwN9o-"
      },
      "source": [
        "## 10.6 Fungsi Dengan Parameter\n",
        "\n",
        "Parameter adalah variabel yang menampung nilai untuk diproses di dalam fungsi. Parameter berperan sebagai input untuk fungsi.\n",
        "\n",
        "Struktur dasarnya seperti ini:\n",
        "```javascript\n",
        "[TipeData] namaFungsi(TipeData namaParameter, TipeData namaParameterLain){\n",
        "    // kode fungsi\n",
        "}\n",
        "```\n",
        "\n",
        "penjelasan:\n",
        "\n",
        "Parameter ditulis di antara tanda kurung (...);\n",
        "Parameter harus diberikan tipe data;\n",
        "Bila terdapat lebih dari satu parameter, maka dipisah dengan tanda koma.\n",
        "Contoh fungsi yang memiliki parameter:\n",
        "```javascript\n",
        "static void ucapin(String ucapan){\n",
        "    System.out.println(ucapan);\n",
        "}\n",
        "```\n",
        "Pada contoh tersebut, kita membuat parameter bernama ucapan dengan tipe String. Sehingga kita bisa menggunakan variabel ucapan di dalam fungsi.\n",
        "\n",
        "Cara pemanggilan fungsi yang memiliki parameter:\n",
        "```javascript\n",
        "ucapin(\"Hallo!\");\n",
        "ucapin(\"Selamat datang di pemrograman Java\");\n",
        "ucapin(\"Saya kira ini bagian terakhir\");\n",
        "ucapin(\"Sampai jumpa lagi, ya!\");\n",
        "\n",
        "```\n",
        "\n",
        "cobalah lakukan eksekusi kode **Program 10.2** berikut ini amatilah hasilnya\n",
        "\n",
        "yang merupakan kode program lengkap dari potongan - potongan kode diatas  adalah sebagai berikut :\n",
        "```javascript\n",
        "void ucapin(String ucapan){\n",
        "    System.out.println(ucapan);\n",
        "}\n",
        "\n",
        "ucapin(\"Hallo!\");\n",
        "ucapin(\"Selamat datang di pemrograman Java\");\n",
        "ucapin(\"Saya kira ini bagian terakhir\");\n",
        "ucapin(\"Sampai jumpa lagi, ya!\");\n",
        "```"
      ]
    },
    {
      "cell_type": "code",
      "metadata": {
        "id": "Xibf45Dg4E0j"
      },
      "source": [
        "//Program 10.2"
      ],
      "execution_count": null,
      "outputs": []
    },
    {
      "cell_type": "markdown",
      "metadata": {
        "id": "MYY5zdnAN9o_"
      },
      "source": [
        "## 10.7 Fungsi yang Mengembalikan Nilai\n",
        "\n",
        "Setelah fungsi memproses data yang diinputkan melalui parameter, selanjutnya fungsi harus mengembalikan nilai agar dapat diolah pada proses berikutnya.\n",
        "\n",
        "Pengembalian nilai pada fungsi menggunakan kata kunci return.\n",
        "\n",
        "Contoh:\n",
        "```javascript\n",
        "int luasPersegi(int sisi){\n",
        "    int luas = sisi * sisi;\n",
        "    return luas;\n",
        "}\n",
        "```\n",
        "Pada contoh tersebut, kita membuat sebuah parameter bernama sisi. Kemudian fungsi akan mengembalikan nilai dengan tipe int (integer) dari variabel luas.\n",
        "\n",
        "Contoh pemanggilanya:\n",
        "```javascript\n",
        "System.out.println(\"Luas Persegi dengan panjang sisi 5 adalah \" + luasPersegi(5));\n",
        "```\n",
        "\n",
        "cobalah lakukan eksekusi kode **Program 10.3** berikut ini amatilah hasilnya\n",
        "\n",
        "yang merupakan kode program lengkap dari potongan - potongan kode diatas  adalah sebagai berikut :\n",
        "\n",
        "\n",
        "```javascript\n",
        "int luasPersegi(int sisi){\n",
        "    int luas = sisi * sisi;\n",
        "    return luas;\n",
        "}\n",
        "\n",
        "System.out.println(\"Luas Persegi dengan panjang sisi 5 adalah \" + luasPersegi(5));\n",
        "```\n"
      ]
    },
    {
      "cell_type": "code",
      "metadata": {
        "id": "ulks8FON3ndm"
      },
      "source": [
        "//Program 10.3"
      ],
      "execution_count": null,
      "outputs": []
    },
    {
      "cell_type": "markdown",
      "metadata": {
        "id": "Iev_0zOSN9o_"
      },
      "source": [
        "## 10.8 Fungsi Yang Memanggil Fungsi Lain\n",
        "\n",
        "Fungsi-fungsi dapat saling memanggil untuk memproses data.\n",
        "\n",
        "Contoh, sebuah program Kalkulator Bangun Ruang memiliki fungsi-fungsi: luasPersegi(), luasPersegiPanjang(), luasSegitiga(), luasBalok(), luasKubus() dsb.\n",
        "\n",
        "Fungsi-fungsi tersebut dapat saling membantu, contoh fungsi luasKubus() membutuhkan fungsi luasPersegi().\n",
        "\n",
        "Rumus:\n",
        "```javascript\n",
        "Luas Kubus = 6 *  luasPersegi;\n",
        "Luas Persegi = sisi * sisi;\n",
        "```\n",
        "\n",
        "Maka programnya bisa dibuat seperti berikut \n",
        "\n",
        "**Program 10.4** Fungsi memanggil fungsi lain \n",
        "\n",
        "```javascript\n",
        "\n",
        "\n",
        "    // membuat fungsi luasPersegi()\n",
        "    int luasPersegi(int sisi){\n",
        "        return sisi * sisi;\n",
        "    }\n",
        "\n",
        "    // membuat fungsi luasKubus()\n",
        "    int luasKubus(int sisi){\n",
        "        \n",
        "        // memanggil fungsi luasPersegi\n",
        "        return 6 * luasPersegi(sisi);\n",
        "    }\n",
        "\n",
        "\n",
        "\n",
        "      int s = 12;\n",
        "      int luas = luasKubus(s);\n",
        "\n",
        "      System.out.println(luas);\n",
        "```"
      ]
    },
    {
      "cell_type": "code",
      "metadata": {
        "id": "3bfuqeOM4ypQ"
      },
      "source": [
        "//Program 10.4 Fungsi memanggil fungsi lain"
      ],
      "execution_count": null,
      "outputs": []
    },
    {
      "cell_type": "markdown",
      "metadata": {
        "id": "kz4p7vDrN9pA"
      },
      "source": [
        "## 10.9 Variabel Global dan Variabel Lokal pada Java\n",
        "\n",
        "Variabel global adalah variabel yang bisa diakses dari semua fungsi. Sedangkan variabel lokal adalah variabel yang hanya bisa diakses dari dalam fungsi tempat variabel itu berada.\n",
        "\n",
        "Bingung?\n",
        "\n",
        "Mari kita lihat **Program 10.4 ** contoh dari variable global dan lokal:\n",
        "```javascript\n",
        "\n",
        "    // ini variabel global\n",
        "    static String nama = \"Programku\";\n",
        "    static String version = \"1.0.0\";\n",
        "\n",
        "    void help(){\n",
        "\n",
        "        // ini variabel lokal\n",
        "        String nama = \"STMIK ELRAHMA\";\n",
        "\n",
        "        // mengakses variabel global di dalam fungso help()\n",
        "        System.out.println(\"Nama: \" + nama);\n",
        "        System.out.println(\"Versi: \" + version);\n",
        "    }\n",
        "\n",
        "    void main(String args[]){\n",
        "        \n",
        "        // panggil fungsi help()\n",
        "        help();\n",
        "        \n",
        "        System.out.println(\"Nama: \" + nama);\n",
        "        System.out.println(\"Versi: \" + version);\n",
        "\n",
        "    }\n",
        "```\n",
        "\n",
        "```javascript\n",
        "\n",
        "Hasil outputnya:\n",
        "\n",
        "Nama: STMIK ELRAHMA\n",
        "Versi: 1.0.0\n",
        "Nama: Programku\n",
        "Versi: 1.0.0\n",
        "```\n",
        "Saat pemanggilan fungsi help() kita membuat ulang variabel nama. Sehingga variabel nama menjadi variabel lokal pada fungsi help() dan nilainya berubah menjadi \"STMIK ELRAHMA\".\n",
        "\n",
        "Sedangkan, saat kita akases lagi variabel nama melalui fungsi main() nilainya tetap sama seperti yang didefinisikan.\n",
        "\n",
        "cobalah lakukan eksekusi kode Program **10.5** berikut ini amatilah hasilnya"
      ]
    },
    {
      "cell_type": "code",
      "metadata": {
        "id": "2Z3StzAmTZb9"
      },
      "source": [
        "//Program 10.5"
      ],
      "execution_count": null,
      "outputs": []
    },
    {
      "cell_type": "markdown",
      "metadata": {
        "id": "1BF-A0oPrBL_"
      },
      "source": [
        "**Tugas**\n",
        "\n",
        "Buatlah fungsi untuk menghitung Luas Persegi Panjang berikut contoh implementasinya\n",
        "\n",
        "\n",
        "\n"
      ]
    },
    {
      "cell_type": "code",
      "metadata": {
        "id": "qnnQqrF05px3"
      },
      "source": [
        "//Jawaban Tugas Membuat Fungsi"
      ],
      "execution_count": null,
      "outputs": []
    },
    {
      "cell_type": "markdown",
      "metadata": {
        "id": "UVzMyS8a_zrl"
      },
      "source": [
        "## _"  ]
    }
  ]
}
