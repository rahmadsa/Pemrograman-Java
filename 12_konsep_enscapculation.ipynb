{
  "cells": [
    {
      "cell_type": "markdown",
      "metadata": {
        "id": "view-in-github",
        "colab_type": "text"
      },
      "source": [
        "<a href=\"https://colab.research.google.com/github/rahmadsa/Pemrograman-Java/blob/main/12_konsep_enscapculation.ipynb\" target=\"_parent\"><img src=\"https://colab.research.google.com/assets/colab-badge.svg\" alt=\"Open In Colab\"/></a>"
      ]
    },
    {
      "cell_type": "markdown",
      "metadata": {
        "id": "bUB6YkbKzq6e"
      },
      "source": [
        "\n",
        "\n",
        "---\n",
        "\n"
      ]
    },
    {
      "cell_type": "markdown",
      "metadata": {
        "id": "7QbClP-5yKVi"
      },
      "source": [
        "### Petunjuk Penting !!\n",
        "\n",
        "####  Lakukan Inisialisasi Java Kompailer untuk Google Colab\n",
        "Notebook ini menggunakan Java di Google Colaboratory sebagai kompailer. Untuk itu lakukan dua langkah dibawah ini sebelum anda bekerja dengan notebook ini\n",
        "\n",
        "1. Jalankan perintah pada cell diabawah ini (klik tombol run atau tekan tombol `Shift`+`Enter` secara bersamaan)"
      ]
    },
    {
      "cell_type": "code",
      "execution_count": null,
      "metadata": {
        "id": "lUr92Wb1yzXm"
      },
      "outputs": [],
      "source": [
        "//init java please..."
      ]
    },
    {
      "cell_type": "markdown",
      "metadata": {
        "id": "05gvKabVzOQD"
      },
      "source": [
        "2. Kemudian refresh halaman notebook (page) (tekan tombol `F5`) atau that. atau tekan tombol refresh/reload. "
      ]
    },
    {
      "cell_type": "markdown",
      "metadata": {
        "id": "fizVCMLKzf8A"
      },
      "source": [
        "---\n"
      ]
    },
    {
      "cell_type": "markdown",
      "metadata": {
        "id": "VD3Bt8LiFs-E"
      },
      "source": [
        "# 14. **Konsep Enskapsulasi**\n",
        "\n",
        "Dalam OOP kita sering mendengar istilah encapsulation (pembungkusan). Tiap - tiap class memiliki kompunen. Kompunen inilah yang harus kita lindungi dan kita atus hak aksesnya dengan melakukan enscasulation. \n",
        "## 14.1 **Tujuan**\n",
        "Setelah mengikuti meteri ini mahasiswa diharapkan dapat :\n",
        "1. Mahasiswa memahami konsep *enscapsulation* dalam PBO\n",
        "2. Mahasiswa mampu menerapkan konsep  *enscapsulation* dalam PBO\n",
        "\n",
        "\n",
        "## 14.2. **Uraian Materi**\n",
        "DEngan enskasulasi kompunen class akan dibungkus dengan modifier, diatur hak aksesnya terhadap class diluar class tersebut.\n",
        "\n",
        "Modifier method, accesor dan mutator inilah yang akan membantu kita mengakses dan melindungi data tersebut.\n",
        "\n",
        "Mengapa harus dibuat seperti ini?\n",
        "\n",
        "Ada beberapa alasannya:\n",
        "\n",
        "1. Untuk meningkatkan keamanan data;\n",
        "2. Agar lebih mudah dalam mengontrol atribut dan dan method;\n",
        "3. Class bisa kita buat menjadi read-only dan write-only;\n",
        "dan fleksibel: programmer dapat mengganti sebagian dari kode tanpa harus takut berdampak pada kode yang lain.\n"
      ]
    },
    {
      "cell_type": "markdown",
      "source": [
        "### 14.2.1 **Modifier**\n",
        "Class dalam program Java dapat saling berhubungan dengan cara memberikan akses terhadap member mereka.\n",
        "\n",
        "Salah satu kosep hubungan class yang pernah kita pelajari adalah *inheritance* (pewarisan).\n",
        "\n",
        "Semua yang ada di dalam class (atribut dan method) disebut member. Biasanya akan ada tingkatan akses yang disebut ***modifier***.\n",
        "\n",
        "![Contoh Modifire](https://github.com/rahmadsa/Pemrograman-Java/blob/main/images/contohmodifier.png?raw=true)\n",
        "\n",
        "Statment dengan garis bawah pada kode di atas adalah modifier. Modifier ini nanti akan menentukan batasan akses member dan class.\n",
        "\n",
        "Pada hubungan inheritance, semua member di dalam class induk akan bisa diakses oleh class anak (subclass), \n",
        "kecuali member tersebut diberikan modifier private.\n",
        "\n",
        "Modifier tidak hanya bisa diberikan kepada member saja. Tapi juga bisa diberikan kepada interface, enum, dan class itu sendiri.\n",
        "\n"
      ],
      "metadata": {
        "id": "q7quNS5t6acl"
      }
    },
    {
      "cell_type": "markdown",
      "source": [
        "###  14.2.2. **Jenis Modifier Dalam Pemrograman Java**\n",
        "\n",
        "\n",
        "Secara umum ada 3 macam modifier yang digunakan dalam Java: public, private, dan protected.\n",
        "\n",
        "Apabila kita tidak menggunakan tiga kata kunci tersebut, maka member atau class itu tidak menggunakan modifier (no modifier).\n",
        "\n",
        "Masing-masing modifier akan menentukan di mana saja member bisa diakses.\n",
        "\n",
        "### **1. Modifier Default**\n",
        "\n",
        "Default Modifier atau tanta penyertaan modifier. Seringkali kita lihat kode Java ketika medifinikasikan class tanpa menyertakan modifier seperti contoh kode dibawah ini.\n",
        "\n",
        "Contoh:\n",
        "```javascript\n",
        "\n",
        "class Person {\n",
        "    //kompunen atribut\n",
        "    String name;\n",
        "\n",
        "    //kompunen method\n",
        "    void changeName(String newName){\n",
        "        this.name = newName;\n",
        "    }\n",
        "}\n",
        "```\n",
        "Dari struktur class diatas baik kompunen atribut atau method tidak meneyertakan modifier. **Dengan tidak meyebutkan tipe modifiernya maka semua kompunen class yang tidak meyertakan modifernya otomatis akan terkenali sebagai public**  \n",
        "\n",
        "> Semenjak JDK versi 1.2 maka compailer akan menganggap semua kompunen default akan dianggap public\n",
        "\n",
        "\n",
        "### **2. Modifier Public**\n",
        "Modifier public akan membuat member dan class bisa di akses dari mana saja.\n",
        "\n",
        "Contoh:\n",
        "```javascript\n",
        "\n",
        "class Player {\n",
        "    public String name;\n",
        "\n",
        "    public void changeName(String newName){\n",
        "        this.name = newName;\n",
        "    }\n",
        "}\n",
        "```\n",
        "Pada class Preson terdapat dua member, yaitu:\n",
        "1.  atribut name\n",
        "2.  method *changeName()*\n",
        "\n",
        "Kedua member tersebut kita berikan *modifier public* . Artinya Class atau kompunen(atribut dan method) akan bisa diakses dari class mana saja diluar class tersebut.\n",
        "Pada class diagram, modifier public digambarkan dengan simbol plus **(+)**. sebagaimana Contoh gambar berikut:\n",
        "\n",
        "![Modifier Simbol Public](https://github.com/rahmadsa/Pemrograman-Java/blob/main/images/modifiersimbol.png?raw=true)\n",
        "\n",
        "### **3. Modifier Private**\n",
        "Modifier private akan membuat member hanya bisa diakses oleh class itu sendiri atau hanya bisa diakses dari dalam class itu sendiri.\n",
        "\n",
        "\n",
        "> Modifier private tidak bisa diberikan kepada class, enum, dan interface. Modifier private hanya bisa diberikan kepada kompunen class.\n",
        "\n",
        "Contoh:\n",
        "```javascript\n",
        "class Player {\n",
        "    private String name;\n",
        "\n",
        "    public void setName(String name){\n",
        "        this.name = name;\n",
        "    }\n",
        "\n",
        "    public String getName(){\n",
        "        return this.name;\n",
        "    }\n",
        "}\n",
        "```\n",
        "Pada contoh di atas, kita memberikan modifier private pada atribut name dan modifier public pada method *setName()* dan *getName()*.\n",
        "\n",
        "Apabila kita coba mengkases langusung atribut name seperti ini:\n",
        "\n",
        "```javascript\n",
        "Player mEnemy = new Player()\n",
        "mPerson.name = \"Monster\"; // <- maka akan terjadi error di sini\n",
        "```\n",
        "\n",
        "Lalu, bagaimana cara mengakses member private dari luar class?\n",
        "\n",
        "Kita bisa memanfaatkan method setter dan getter. Karena, method ini akan selalu diberikan modifier public.\n",
        "\n",
        "Pada class diagram, modifier private digambarkan dengan simbol minus (-).\n",
        "\n",
        "![Modifier Simbol Private](https://github.com/rahmadsa/Pemrograman-Java/blob/main/images/modifiersimbolprivate.png?raw=true)\n",
        "\n",
        "\n",
        "### **4. Modifier Protected**\n",
        "Modifier protected akan membuat member dan class hanya bisa diakses dari:\n",
        "\n",
        "1.  Class itu sendiri;\n",
        "2.  Sub class atau class anak;\n",
        "3.  Class lain dalam satu package;\n",
        "\n",
        "\n",
        "Modifier protected juga hanya boleh digunakan pada member saja.\n",
        "\n",
        "Contoh:\n",
        "```javascript\n",
        "package modifier;\n",
        "\n",
        "public class Player {\n",
        "    protected String name;\n",
        "    \n",
        "    public void setName(String name){\n",
        "        this.name = name;\n",
        "    }\n",
        "    \n",
        "    public String getName(){\n",
        "        return this.name;\n",
        "    }\n",
        "\n",
        "    protected void setGun(String name){\n",
        "        this.name = name;\n",
        "    }\n",
        "}\n",
        "\n",
        "public class Enemy extends Player{\n",
        "    \n",
        "    @overide\n",
        "    protected void setGun(String name){\n",
        "        this.name = name;\n",
        "    }  \n",
        "\n",
        "}\n",
        "```\n",
        "\n",
        "\n",
        "Pada contoh di atas, kita memberikan modifier protected pada atribut name.\n",
        "\n",
        "Apabila kita coba mengakses dari class lain atau diluar package dengannya, maka tidak akan terjadi error.\n",
        "\n",
        "Pada class diagram modifier protected digambarkan dengan tanda pagar (**#**).\n",
        "\n",
        "\n",
        "![Modifier Simbol Protected](https://github.com/rahmadsa/Pemrograman-Java/blob/main/images/modifiersimbolprotected.png?raw=true)"
      ],
      "metadata": {
        "id": "NGecNUNxJczY"
      }
    },
    {
      "cell_type": "markdown",
      "source": [
        "##14.2.3. **Accessors And Mutators Di Pemrograman Java**\n",
        "**Accessor** dan **Mutator** adalah bagian dari konsep Enkapsulasi;\n",
        "\n",
        "**Acessor** adalah sebuah konsep dimana ada sebuah method yang di gunakan untuk mengembalikan nilai dari field/variable yang memiliki hak akses private/protected.\n",
        "\n",
        "Accessor memiliki fungsi Enkapsulasi “Getter” yang mengembalikan sebuah nilai yang memilik hak akses private/protected melalu sebuah method/fungsi\n",
        "\n",
        "**Mutator** memiliki sifat yang sangat berbeda dengan Acessor yang merupakan Kebalikan dari Accessor,  karena mutator akan merubah data dari sebuah Field/Variable yang bersangkutan.\n",
        "\n",
        "Mutator memiliki fungsi Enkapsulasi “Setter” dimana akses untuk merubah data dari variable/field yang memiliki hak akses private ada sebuah dengan method .\n"
      ],
      "metadata": {
        "id": "pQaBLdXKTlT_"
      }
    },
    {
      "cell_type": "markdown",
      "source": [
        "### 14.2.4 **Cara Membuat Method Setter dan Getter**\n",
        "\n",
        "Method setter dan getter adalah dua method yang tugasnya untuk mengambil dan mengisi data ke dalam objek.\n",
        "\n",
        "cara membuat method setter dan getter sama saja seperti membuat method biasa.\n",
        "\n",
        "Contoh:\n",
        "```javascript\n",
        "class User {\n",
        "    private String username;\n",
        "    private String password;\n",
        "\n",
        "    // ini method setter\n",
        "    public void setUsername(String username){\n",
        "        this.username = username;\n",
        "    }\n",
        "\n",
        "    public void setPassword(String password){\n",
        "        this.password = password;\n",
        "    }\n",
        "\n",
        "    // ini method getter\n",
        "    public String getUsername(){\n",
        "        return this.username;\n",
        "    }\n",
        "\n",
        "    public String getPassword(){\n",
        "        return this.password;\n",
        "    }\n",
        "}\n",
        "```\n",
        "Method setter dan getter harus diberikan modifier public, karena method ini akan diakses dari luar class.\n",
        "\n",
        "Perbedaan method setter dengan getter terletak pada nilai kembalian, parameter, dan isi method-nya.\n",
        "\n",
        "Method setter tidak memiliki nilai kembalian void (kosong). Karena tugasnya hanya untuk mengisi data ke dalam atribut.\n",
        "\n",
        "Sedangkan method getter memiliki nilai kembalian sesuai dengan tipe data yang akan diambil.\n",
        "\n",
        "![Pemrograman Prosedural](https://github.com/rahmadsa/Pemrograman-Java/blob/main/images/getersetersample.png?raw=true)\n",
        "\n",
        "\n",
        "Nama method setter dan getter harus diawali dengan set untuk setter dan get untuk getter."
      ],
      "metadata": {
        "id": "VpZG4yYvUIpk"
      }
    },
    {
      "cell_type": "markdown",
      "source": [
        "## 14.2.5. **Penggunakan Method Setter dan Getter**\n",
        "Setelah kita membuat method setter dan getter, kita bisa mengakses atau menggunakannya seperti method biasa.\n",
        "\n",
        "Contoh:\n",
        "```javascript\n",
        "// Kode ini ditulis di dalam method main\n",
        "\n",
        "// membuat objek dari class User\n",
        "Player oEnemyMonster1 = new Player();\n",
        "\n",
        "// menggunakan method setter\n",
        "oEnemyMonster1.setUsername(\"Gurita\");\n",
        "oEnemyMonster1.setHealt(10);\n",
        "\n",
        "// menggunakan method getter\n",
        "System.out.println(\"Username: \" + oEnemyMonster1.getUsername());\n",
        "System.out.println(\"Password: \" + oEnemyMonster1.getHealt());  \n",
        "```"
      ],
      "metadata": {
        "id": "yAqFFqOGV9ya"
      }
    },
    {
      "cell_type": "markdown",
      "source": [
        "### 14.3 **Latihan**\n",
        "\n",
        "Sempurnakan struktur class berikut dengan menerap semua kaidah enskapsulasi.\n",
        " \n",
        "```javascript\n",
        "class Person {\n",
        "    //kompunen atribut\n",
        "    String name;\n",
        "    int old;\n",
        "\n",
        "    //kompunen method\n",
        "    void changeName(String newName){\n",
        "        this.name = newName;\n",
        "    }\n",
        "\n",
        "    void changeOld(int newold){\n",
        "        this.old = newold;\n",
        "    }\n",
        "}\n",
        "```"
      ],
      "metadata": {
        "id": "A9aPm_gdasBD"
      }
    },
    {
      "cell_type": "code",
      "source": [
        "//Kode Latihan 14.3"
      ],
      "metadata": {
        "id": "QZgy2lDnX2jQ"
      },
      "execution_count": null,
      "outputs": []
    }
  ],
  "metadata": {
    "colab": {
      "collapsed_sections": [],
      "name": "12_konsep_enscapculation.ipynb",
      "provenance": [],
      "include_colab_link": true
    },
    "kernelspec": {
      "display_name": "Java",
      "language": "java",
      "name": "java"
    },
    "language_info": {
      "codemirror_mode": "java",
      "file_extension": ".jshell",
      "mimetype": "text/x-java-source",
      "name": "java",
      "pygments_lexer": "java",
      "version": "17.0.1+12-LTS-39"
    },
    "toc": {
      "base_numbering": 1,
      "nav_menu": {},
      "number_sections": false,
      "sideBar": false,
      "skip_h1_title": false,
      "title_cell": "Table of Contents",
      "title_sidebar": "Contents",
      "toc_cell": false,
      "toc_position": {},
      "toc_section_display": false,
      "toc_window_display": false
    }
  },
  "nbformat": 4,
  "nbformat_minor": 0
}