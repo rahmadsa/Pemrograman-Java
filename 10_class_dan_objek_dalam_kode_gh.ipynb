{
  "cells": [
    {
      "cell_type": "markdown",
      "metadata": {
        "id": "view-in-github",
        "colab_type": "text"
      },
      "source": [
        "<a href=\"https://colab.research.google.com/github/rahmadsa/Pemrograman-Java/blob/main/10_class_dan_objek_dalam_kode_gh.ipynb\" target=\"_parent\"><img src=\"https://colab.research.google.com/assets/colab-badge.svg\" alt=\"Open In Colab\"/></a>"
      ]
    },
    {
      "cell_type": "code",
      "execution_count": null,
      "metadata": {
        "id": "iikHUtEExLIP"
      },
      "outputs": [],
      "source": [
        ""
      ]
    },
    {
      "cell_type": "markdown",
      "metadata": {
        "id": "bUB6YkbKzq6e"
      },
      "source": [
        "\n",
        "\n",
        "---\n",
        "\n"
      ]
    },
    {
      "cell_type": "markdown",
      "metadata": {
        "id": "7QbClP-5yKVi"
      },
      "source": [
        "### Petunjuk Penting !!\n",
        "\n",
        "####  Lakukan Inisialisasi Java Kompailer untuk Google Colab\n",
        "Notebook ini menggunakan Java di Google Colaboratory sebagai kompailer. Untuk itu lakukan dua langkah dibawah ini sebelum anda bekerja dengan notebook ini\n",
        "\n",
        "1. Jalankan perintah pada cell diabawah ini (klik tombol run atau tekan tombol `Shift`+`Enter` secara bersamaan)"
      ]
    },
    {
      "cell_type": "code",
      "execution_count": null,
      "metadata": {
        "id": "lUr92Wb1yzXm"
      },
      "outputs": [],
      "source": [
        "//init java please..."
      ]
    },
    {
      "cell_type": "markdown",
      "metadata": {
        "id": "05gvKabVzOQD"
      },
      "source": [
        "2. Kemudian refresh halaman notebook (page) (tekan tombol `F5`) atau that. atau tekan tombol refresh/reload. "
      ]
    },
    {
      "cell_type": "markdown",
      "metadata": {
        "id": "fizVCMLKzf8A"
      },
      "source": [
        "---\n"
      ]
    },
    {
      "cell_type": "markdown",
      "metadata": {
        "id": "VD3Bt8LiFs-E"
      },
      "source": [
        "# 12. Konsep Objek Dan Class Dalam Pemrograman\n",
        "\n",
        "Penerapan konsep Pemrograman Berorientasi Objek yang dari konsep nyata kedalam kaidah pemrograman.\n",
        "\n",
        "## 12.1 Tujuan\n",
        "Setelah mengikuti meteri ini mahasiswa diharapkan dapat :\n",
        "1. Memahami class dan obyek dalam pemrograman\n",
        "2. Pemrograman pembuatan class\n"
      ]
    },
    {
      "cell_type": "markdown",
      "metadata": {
        "id": "Xk1iUl0icR26"
      },
      "source": [
        "## 12.2 Uraian Materi\n",
        "\n",
        "### 12.2.1 Penerapan Class Dalam Kode\n",
        "\n",
        "**Latihan 1**\n",
        "\n",
        "Tulis dan jalankan kode *Program 12.1 Class Player* Berikut ini kemudian amati hasilnya\n",
        "\n",
        "**Program 12.1 Class Player**\n",
        "```javascript\n",
        "class Player {\n",
        "\n",
        "    // definisi atribut\n",
        "    String name;\n",
        "    int speed;\n",
        "    int BahanBakar;\n",
        "\n",
        "    // definisi method\n",
        "    // definisi method run\n",
        "    void run(){\n",
        "        System.out.println(name +\" class player berjalan...\");\n",
        "        System.out.println(\"Speed: \"+ speed);\n",
        "    }\n",
        "\n",
        "    // definisi method isDead untuk mengecek nilai kesehatan (BahanBakar)\n",
        "    boolean isDead(){\n",
        "        if(BahanBakar <= 0) return true;\n",
        "        return false;\n",
        "    }\n",
        "\n",
        "}\n",
        "\n",
        "Player objRacerSatu = new Player();\n",
        "\n",
        "objRacerSatu.name = \"Pembalap 1\";\n",
        "objRacerSatu.speed = 70;\n",
        "objRacerSatu.BahanBakar = 80;\n",
        "\n",
        "\n",
        "System.out.println(\"Fuel : \"+ objRacerSatu.BahanBakar);\n",
        "System.out.println(\"Speed : \"+ objRacerSatu.speed);\n",
        "\n",
        "objRacerSatu.run();\n",
        "\n",
        "if(objRacerSatu.isDead()){\n",
        "            System.out.println(\"Game Over!\");\n",
        "        }\n",
        "```"
      ]
    },
    {
      "cell_type": "code",
      "source": [
        "//Program 12.1 Class Player"
      ],
      "metadata": {
        "id": "1aZrLApSnb3T"
      },
      "execution_count": null,
      "outputs": []
    },
    {
      "cell_type": "markdown",
      "source": [
        "**Latihan 2**\n",
        "\n",
        "Tuliskan kembali kode *Program 12.2* dengan  mengganti nilai *BahanBakar* menjadi 0.\n",
        "```javascript\n",
        "objRacerSatu.BahanBakar = 0;\n",
        "```\n",
        "Kode lengkapnya adalah sebagai berikut.\n",
        "\n",
        "```javascript\n",
        "objRacerSatu.BahanBakar = 0;\n",
        "\n",
        "System.out.println(\"Bahan Bakar : \"+ objRacerSatu.BahanBakar);\n",
        "System.out.println(\"Speed : \"+ objRacerSatu.speed);\n",
        "\n",
        "objRacerSatu.run();\n",
        "\n",
        "if(objRacerSatu.isDead()){\n",
        "            System.out.println(\"Game Over!\");\n",
        "        }\n",
        "```\n",
        "Implementasi kode *Program 12.2* pada field kode dibawah ini amatilah hasilnya."
      ],
      "metadata": {
        "id": "oK9SxloG0FrT"
      }
    },
    {
      "cell_type": "code",
      "source": [
        "//Program 12.2"
      ],
      "metadata": {
        "id": "hP1gkr3B1qhr"
      },
      "execution_count": null,
      "outputs": []
    },
    {
      "cell_type": "markdown",
      "source": [
        "## 12.2.2 Penjelasan Program\n",
        "Saat kita membuat sebuah class dengan nama **Player**. Maka Class ini bisa mendefinisikan objek - objek Player dalam Game dengan atribut sebagai berikut:\n",
        "\n",
        "* **name** adalah nama objek;\n",
        "* **speed** adalah kecepatan;\n",
        "* **BahanBakar** adalah nilai bahan bakar dari player.\n",
        "\n",
        "Lalu **class Player** memiliki method sebagai berikut:\n",
        "* **run()** untuk menggerakkan player;\n",
        "* **isDead()** untuk mengecek kondisi kesehatan player. Method ini akan mengembalikan nilai *true* apabila nilai *BahanBakar* lebih kecil atau sama dengan nol (0), sebaliknya akan mengembalikan nilai *false*.\n",
        "\n",
        "Berikutnya kita membuat objek baru dari class Player bernama *objRacerSatu*.\n",
        "\n",
        "```javascript\n",
        "// membuat objek player\n",
        "Player objRacerSatu = new Player();\n",
        "```\n",
        "\n",
        "Kata kunci *new* berfungsi untuk membuat objek baru dari class tertentu.\n",
        "\n",
        "Setelah membuat objek, kita bisa mengakses atribut dan method dari objek tersebut.\n",
        "\n",
        "Contoh:\n",
        "```javascript\n",
        "namaObj.namaMethod();\n",
        "namaObj.atribut1;\n",
        "```\n",
        "Tanda titik (.) berfungsi untuk mengakses atribut dan method. Maka akses objek *objRacerSatu* dapat dilakukan sebagai berikut\n",
        "\n",
        "```javascript\n",
        "// akse objek player\n",
        "objRacerSatu.name = \"Pembalap 1\";\n",
        "objRacerSatu.Speed = 70;\n",
        "objRacerSatu.BahanBakar = 80;\n",
        "\n",
        "objRacerSatu.Run();\n",
        "\n",
        "```\n",
        "Visualisasi objek *objRacerSatu* yang tercipta adalah sebagai berikut : \n",
        "![Objek Car Run](https://raw.githubusercontent.com/rahmadsa/Pemrograman-Java/9108e2bcbca47f9738879dc09be439d7832c03ad/images/carrun.png)\n",
        "\n",
        "\n",
        "Berikutnya kita coba modifikasi nilai *BahanBakar* menjadi nol.\n",
        "\n",
        "Hasilnya, pesan Game Over! akan ditampilkan. Karena method isDead() akan mengembalikan nilai true jika nilai *BahanBakar* kurang atau sama dengan nol.\n",
        "\n",
        "![Objek Car Stop](https://raw.githubusercontent.com/rahmadsa/Pemrograman-Java/9108e2bcbca47f9738879dc09be439d7832c03ad/images/carstop.png)\n",
        "\n"
      ],
      "metadata": {
        "id": "hKrfMkhe3DC9"
      }
    },
    {
      "cell_type": "markdown",
      "source": [
        "**Latihan 3**\n",
        "\n",
        "*Program 12.3*  Tuliskan kode  untuk *class Drone* dengan struktur kompunen sebagai berikut:\n",
        "\n",
        "\n",
        "| **Class Drone** ||\n",
        "| ----------- | ----------- |\n",
        "| **Atribute :** | |\n",
        "| | energi |\n",
        "| | ketinggian |\n",
        "| | kecepatan | \n",
        "| | merek |\n",
        "| **Method :** | |\n",
        "| |  terbang | \n",
        "| |  matikanMesin | \n",
        "| |  belokKanan | \n",
        "| |  belokKiri | \n",
        "| |  Maju | \n",
        "| |  Mundur | \n",
        "| ---------------- | ------------------------ |\n"
      ],
      "metadata": {
        "id": "atCSoEtKZvT2"
      }
    },
    {
      "cell_type": "code",
      "source": [
        "//Jawab Program 12.3 "
      ],
      "metadata": {
        "id": "Nm3UH-gndxfY"
      },
      "execution_count": null,
      "outputs": []
    },
    {
      "cell_type": "markdown",
      "source": [
        "### 12.2.3 Menentukan Atribut dan Method dari Objek\n",
        "\n",
        "Setiap objek memiliki data (atribut) dan operasi (fungsi).\n",
        "\n",
        "> **Atribut** adalah merupakan ciri-ciri dari objek.\n",
        "\n",
        "> **Method** adalah merupakan tingkah laku atau operasi.\n",
        "Contoh:\n",
        "\n",
        "Berikut ini adalah class dari objek **Senjata**.\n",
        "\n",
        "Dari ciri-ciri **Senjata** berikut data yang bisa dijadikan atribut.\n",
        "* jumlah peluru\n",
        "* jenis\n",
        "* nama senjata\n",
        "* berat\n",
        "* warna\n",
        "\n",
        "Kemudian **Senjata**  memiliki operasi (fungsi) yang bisa dilakukan sebegai berikut.\n",
        "* tembak()\n",
        "* lempar()\n",
        "* kurangiPeluru()\n",
        "* reload()\n",
        "\n",
        "![Objek Car](https://raw.githubusercontent.com/rahmadsa/Pemrograman-Java/9108e2bcbca47f9738879dc09be439d7832c03ad/images/gun.png)\n",
        "\n",
        "Maka implementasi kode dari class **Senjata** adalah seperti berikut:\n",
        "```javascript\n",
        "class Senjata {\n",
        "    // atribut\n",
        "    String nama;\n",
        "    int jumlahPeluru;\n",
        "    \n",
        "    // method\n",
        "    void tembak(){\n",
        "        //..\n",
        "        // setelah nembak, kurangi peluru\n",
        "        jumlahPeluru--;\n",
        "    }\n",
        "\n",
        "    void reload(){\n",
        "        //..\n",
        "        // kalau di-reload maka jumlah peluru diisi ulang\n",
        "        jumlahPeluru = 300;\n",
        "    }\n",
        "}\n",
        "```"
      ],
      "metadata": {
        "id": "1PWK4u_TeD9K"
      }
    },
    {
      "cell_type": "markdown",
      "source": [
        "### 12.13 Konstruktor Class\n",
        "\n",
        "*Constructor* adalah method atau fungsi juga tetapi memiliki karakteristik khusus. \n",
        "\n",
        "> construktor akan dieksekusi pada saat pembuatan objek (instance).\n",
        "\n",
        "> constructor adalah method tetapi nama constructor harus sama seperti nama class.\n",
        "\n",
        "Biasanya method ini digunakan untuk inisialisasi atau mempersiapkan data untuk objek.\n",
        "\n"
      ],
      "metadata": {
        "id": "lAF9bClaYrTx"
      }
    },
    {
      "cell_type": "markdown",
      "source": [
        "### 12.13.1 Contoh Penggunaan Construktor \n",
        "Berikut ini adalah kode contoh penggunaan construktor untuk class Player.\n",
        "```javascript\n",
        "class Player {\n",
        "\n",
        "    // definisi atribut\n",
        "    String name;\n",
        "    int speed;\n",
        "    int healthPoin;\n",
        "\n",
        "    // definisi method\n",
        "    // definisi konstruktor\n",
        "    Player(){\n",
        "      System.out.println(\"Construktor class berjalan...\");\n",
        "    }\n",
        "\n",
        "    // definisi method run\n",
        "    void run(){\n",
        "        System.out.println(name +\" class player berjalan...\");\n",
        "        System.out.println(\"Speed: \"+ speed);\n",
        "    }\n",
        "\n",
        "    // definisi method isDead \n",
        "    boolean isDead(){\n",
        "        if(healthPoin <= 0) return true;\n",
        "        return false;\n",
        "    }\n",
        "}\n",
        "\n",
        "// Implementasi penggunaan objek\n",
        "\n",
        "Player objRacerSatu = new Player();\n",
        "\n",
        "objRacerSatu.name = \"Pembalap 1\";\n",
        "objRacerSatu.speed = 70;\n",
        "objRacerSatu.healthPoin = 80;\n",
        "\n",
        "objRacerSatu.run();\n",
        "```"
      ],
      "metadata": {
        "id": "EbJDzeJidVeq"
      }
    },
    {
      "cell_type": "markdown",
      "source": [
        "## 12.14 Constructor dengan Parameter\n",
        "Constructor biasanya digunakan untuk *initialize* (menyiapkan) data class atau sebagai trigger.\n",
        "\n",
        "Untuk melakukan ini, kita harus membuat parameter sebagai inputan untuk constructor.\n",
        "\n",
        "Contoh:\n",
        "```javascript\n",
        "class Player {\n",
        "\n",
        "    // definisi atribut\n",
        "    String name;\n",
        "    int speed;\n",
        "    int healthPoin;\n",
        "\n",
        "    // definisi konstruktor\n",
        "\t Player(String pName, int pSpeed, int pHealthPoin ){\n",
        "\t \n",
        "      System.out.println(\"Construktor class  dengan parameter berjalan...\");\n",
        "    }\n",
        "}\n",
        "```\n",
        "\n",
        "Pada kode class User di atas, kita menambahkan parameter name, speed dan healthPoin ke dalam constructor.\n",
        "\n",
        "Berarti nanti saat kita membuat objek, kita harus menambahkan nilai parameter seperti ini:\n",
        "```javascript\n",
        "Player petani = new Player(\"Pembalap 2\", 80, 90);\n",
        "```\n",
        "Contoh Kode lengkapnya adalah sebagai berikut.\n",
        "\n",
        "**Program 12.4 Construktor dengan parameter**\n",
        "```javascript\n",
        "class Player {\n",
        "\n",
        "    // definisi atribut\n",
        "    String name;\n",
        "    int speed;\n",
        "    int healthPoin;\n",
        "\n",
        "    // definisi method\n",
        "    // definisi konstruktor\n",
        "    Player(){\n",
        "      System.out.println(\"Construktor class berjalan...\");\n",
        "    }\n",
        "\t\n",
        "\t Player(String pName, int pSpeed, int pHealthPoin ){\n",
        "          name = pName;\n",
        "          speed = pSpeed;\n",
        "          healthPoin = pHealthPoin;\n",
        "\t\t  \n",
        "\t\t  System.out.println(\"Construktor class  dengan parameter berjalan...\");\n",
        "    }\n",
        "\n",
        "    // definisi method run\n",
        "    void run(){\n",
        "        System.out.println(name +\" class player berjalan...\");\n",
        "        System.out.println(\"Speed: \"+ speed);\n",
        "    }\n",
        "\n",
        "    // definisi method isDead \n",
        "    boolean isDead(){\n",
        "        if(healthPoin <= 0) return true;\n",
        "        return false;\n",
        "    }\n",
        "}\n",
        "```\n",
        "Untuk implementasi dari class diatas adalah sebagai berikut:\n",
        "```javascript\n",
        "// Implementasi penggunaan objek\n",
        "\n",
        "//Objek objRacerSatu \n",
        "Player objRacerSatu = new Player();\n",
        "\n",
        "objRacerSatu.name = \"Pembalap 1\";\n",
        "objRacerSatu.speed = 70;\n",
        "objRacerSatu.healthPoin = 80;\n",
        "\n",
        "objRacerSatu.run()\n",
        "\n",
        "//Objek objRacerDua\n",
        "Player objRacerDua = new Player(\"Pembalap 2\", 80, 90);\n",
        "objRacerDua.run()\n",
        "```\n",
        "**Latihan 4**\n",
        "\n",
        "Implementasi kode *Program 12.4* pada field kode dibawah ini amatilah hasilnya."
      ],
      "metadata": {
        "id": "iC7B36OR7p-a"
      }
    },
    {
      "cell_type": "code",
      "source": [
        "//Program 12.4"
      ],
      "metadata": {
        "id": "Wier6FGT9Y7_"
      },
      "execution_count": null,
      "outputs": []
    }
  ],
  "metadata": {
    "colab": {
      "collapsed_sections": [],
      "name": "10_class_dan_objek_dalam_kode_gh.ipynb",
      "provenance": [],
      "include_colab_link": true
    },
    "kernelspec": {
      "display_name": "Java",
      "language": "java",
      "name": "java"
    },
    "language_info": {
      "codemirror_mode": "java",
      "file_extension": ".jshell",
      "mimetype": "text/x-java-source",
      "name": "java",
      "pygments_lexer": "java",
      "version": "17.0.1+12-LTS-39"
    },
    "toc": {
      "base_numbering": 1,
      "nav_menu": {},
      "number_sections": false,
      "sideBar": false,
      "skip_h1_title": false,
      "title_cell": "Table of Contents",
      "title_sidebar": "Contents",
      "toc_cell": false,
      "toc_position": {},
      "toc_section_display": false,
      "toc_window_display": false
    }
  },
  "nbformat": 4,
  "nbformat_minor": 0
}