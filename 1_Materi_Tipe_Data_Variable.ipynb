{
  "nbformat": 4,
  "nbformat_minor": 0,
  "metadata": {
    "colab": {
      "name": "1_Materi_Tipe_Data_Variable.ipynb",
      "provenance": [],
      "collapsed_sections": [],
      "toc_visible": true
    },
    "kernelspec": {
      "name": "java",
      "display_name": "Java"
    },
    "language_info": {
      "name": "java"
    }
  },
  "cells": [
    {
      "cell_type": "code",
      "metadata": {
        "id": "iikHUtEExLIP"
      },
      "source": [
        ""
      ],
      "execution_count": null,
      "outputs": []
    },
    {
      "cell_type": "markdown",
      "metadata": {
        "id": "bUB6YkbKzq6e"
      },
      "source": [
        "\n",
        "\n",
        "---\n",
        "\n"
      ]
    },
    {
      "cell_type": "markdown",
      "metadata": {
        "id": "7QbClP-5yKVi"
      },
      "source": [
        "#Petunjuk Penting !!\n",
        "\n",
        "## Lakukan Inisialisasi Java Kompailer untuk Google Colab\n",
        "Notebook ini menggunakan Java di Google Colaboratory sebagai kompailer. Untuk itu lakukan dua langkah dibawah ini sebelum anda bekerja dengan notebook ini\n",
        "\n",
        "1. Jalankan perintah pada cell diabawah ini (klik tombol run atau tekan tombol `Shift`+`Enter` secara bersamaan)"
      ]
    },
    {
      "cell_type": "code",
      "metadata": {
        "id": "lUr92Wb1yzXm"
      },
      "source": [
        "////lakukan perintah initialisasi java kompailer disini::"
      ],
      "execution_count": null,
      "outputs": []
    },
    {
      "cell_type": "markdown",
      "metadata": {
        "id": "05gvKabVzOQD"
      },
      "source": [
        "2. Kemudian refresh halaman notebook (page) (tekan tombol `F5`) atau that. atau tekan tombol refresh/reload. "
      ]
    },
    {
      "cell_type": "markdown",
      "metadata": {
        "id": "fizVCMLKzf8A"
      },
      "source": [
        "---\n"
      ]
    },
    {
      "cell_type": "markdown",
      "metadata": {
        "id": "_DbSQE1mzn7W"
      },
      "source": [
        "\n",
        "# 2. Tipe Data Dan Variable\n",
        "\n",
        "\n",
        "##(Dasar-Dasar Pemrograman Java)\n",
        "\n",
        "\n",
        "## 2.1. Tujuan\n",
        "Pada bagian ini, kita akan mendiskusikan mengenai bagian dasar pemrograman Java. Kita akan memulai dengan mencoba menjelaskan bagian dasar dari program Hello.java yang telah diperkenalkan pada bab sebelumnya. Kita juga akan mendiskusikan beberapa pedoman cara menulis script atau petunjuk penulisan kode dalam penulisan program yang lebih efektif dan mudah dibaca.\n",
        "\n",
        "Pada akhir pembahasan, diharapkan pembaca dapat :\n",
        "*   Mengidentifikasi bagian dasar dari program Java\n",
        "*   Membedakan mana yang termasuk ke dalam Java literals, tipe data dasar dan tipe variabel\n",
        "\n",
        "Mengembangkan program Java sederhana menggunakan konsep yang dipelajari pada bab ini\n",
        "\n",
        "## 2.2. Menganalisa program Java Pertama\n",
        "\n",
        "Sekarang, kita akan mencoba untuk menganalisa program Java pertama, lakukan eksekusi pada baris kode dibawah ini dengan menekan tombol >\n",
        "\n",
        "**Program 2.1**   Program Pertama Hello world"
      ]
    },
    {
      "cell_type": "code",
      "metadata": {
        "id": "_ZK2vinX9d98"
      },
      "source": [
        "/**\n",
        "*\tMy first java program */\n",
        "\n",
        "//menampilkan string ”Hello world” pada layar\n",
        "\n",
        "System.out.println(\"Hello world!\");"
      ],
      "execution_count": null,
      "outputs": []
    },
    {
      "cell_type": "markdown",
      "metadata": {
        "id": "SR2XbGdh9nF-"
      },
      "source": [
        "Baris pertama menandakan adanya komentar Java. Komentar adalah sesuatu yang digunakan untuk mendokumentasikan setiap bagian dari kode yang ditulis. Komentar bukan merupakan bagian dari program itu sendiri, tetapi digunakan untuk tujuan dokumentasi. Komentar itu sendiri dapat ditambahkan pada kode yang Anda tulis sebagai petunjuk yang dapat membantu proses pembelajaran pemrograman yang baik.\n",
        "\n",
        "```javascript\n",
        "/**\n",
        "\n",
        "*\tMy first java program\n",
        "\n",
        "*/\n",
        "```\n",
        "Komentar dinyatakan dengan tanda “/*” dan “*/”. Segala sesuatu yang ada diantara tanda tersebut diabaikan oleh compiler Java, dan mereka hanya dianggap sebagai komentar.\n",
        "Baris selanjutnya juga merupakan komentar,\n",
        "\n",
        "```javascript\n",
        "\n",
        "//Menampilkan string \"Hello world\" pada layar\n",
        "\n",
        "```\n",
        "\n",
        "Sekarang kita mempelajari 2 cara untuk membuat komentar. Cara pertama adalah dengan menempatkan komentar dalam /* dan */, dan cara yang lain adalah dengan menuliskan tanda // pada awal komentar\n",
        "\n",
        "\n",
        "```javascript\n",
        "System.out.println(\"Hello world!\");\n",
        "```\n",
        "\n",
        "menampilkan teks “Hello World!” pada layar. Perintah System.out.println(), menampilkan teks yang diapit oleh tanda double pute (“ ”) pada layar.\n",
        "\n",
        "Dua baris terakhir yang terdiri atas dua kurung kurawal digunakan untuk menutup method utama dan masing-masing class secara berurutan.\n",
        "\n",
        "\n",
        "\n",
        "Baris selanjutnya,\n",
        "\n"
      ]
    },
    {
      "cell_type": "markdown",
      "metadata": {
        "id": "DVwcSTUo_DkY"
      },
      "source": [
        "## **2.3. Komentar pada Java**\n",
        "\n",
        "Komentar adalah catatan yang ditulis pada kode dengan tujuan sebagai bahan dokumentasi. Teks tersebut bukan bagian dari program dan tidak mempengaruhi jalannya program.\n",
        "\n",
        "Java mendukung tiga jenis komentar : C++ style komentar satu baris, C style beberapa baris, dan komentar javadoc khusus\n",
        "\n",
        "### 2.3.1. Penulisan Komentar C++ Style\n",
        "\n",
        "Komentar C++ style diawali dengan //. Semua teks setelah // dianggap sebagai komentar. Sebagi contoh,\n",
        "```javascript\n",
        "// This is a C++ style or single line comments\n",
        "```\n",
        "### 2.3.2. Penulisan Komentar C Style\n",
        "\n",
        "Komentar C-style atau juga disebut komentar beberapa baris diawali dengan /* dan diakhiri dengan */. Semua teks yang ada diantara dua tanda tersebut dianggap sebagai komentar. Tidak seperti komentar C++ style, komentar ini dapat menjangkau beberapa baris. Sebagai contoh,\n",
        "\n",
        "```javascript\n",
        "/* this is an example of a\n",
        "\n",
        "C style or multiline comments */\n",
        "```\n",
        "\n",
        "### 2.3.3. Komentar Khusus javadoc\n",
        "\n",
        "Komentar javadoc khusus digunakan untuk men-generate dokumentasi HTML untuk program Java Anda. Anda dapat menciptakan komentar javadoc dengan memulai baris dengan /** dan mengakhirinya dengan */. Seperti Komentar C_style, dapat juga menjangkau beberapa baris. Komentar ini juga dapat terdiri atas tag-tag untuk menambahkan lebih banyak informasi pada komentar Anda. Sebagai contoh,\n",
        "```javascript\n",
        "/**\n",
        "\n",
        "This is an example of special java doc comments used for \\n\n",
        "generating an html documentation. It uses tags like:\n",
        "@author Florence Balagtas\n",
        "\n",
        "@version 1.2\n",
        "*/\n",
        "```\n",
        "\n"
      ]
    },
    {
      "cell_type": "markdown",
      "metadata": {
        "id": "Rrr97xsnsLh9"
      },
      "source": [
        "### 2.3.4 Latihan 2.1\n",
        "\n",
        "lakukan eksekusi pada baris kode pada cell code dibawah ini dengan menekan tombol >\n",
        "\n",
        "Amatilah hasilnya\n",
        "\n",
        "**Program 2.2** SequencesComments"
      ]
    },
    {
      "cell_type": "code",
      "metadata": {
        "id": "Ao-2Ii5cs6GA",
        "colab": {
          "base_uri": "https://localhost:8080/"
        },
        "outputId": "95ee01af-1e93-4701-ac58-b4954199d32b"
      },
      "source": [
        " // This exercise demonstrates escape sequences & comments (like these)!\n",
        " System.out.print( \"Learn\\tJava\\n\\tthe\\nHard\\tWay\\n\\n\" );\n",
        " System.out.print( \"\\tLearn Java the \\\"Easy\\\" Way!\\n\" );\n",
        " // System.out.frimp( \"Learn Java the Hard Way\" );\n",
        " System.out.print( \"Hello\\n\" ); // This line prints Hello.\n",
        " System.out.print( \"Jello\\by\\n\" ); // This line prints Jelly.\n",
        " /* The quick brown fox jumped over a lazy dog.\n",
        "    Quick wafting zephyrs vex bold Jim. */\n",
        " System.out /* testing */ .println( \"Hard to believe, eh?\" );\n",
        " System.out.println( \"Surprised? /* abcde */ Or what did you expect?\" );\n",
        " System.out.println( \"\\\\ // -=- \\\\ //\" );\n",
        " System.out.println( \"\\\\\\\\ \\\\\\\\\\\\ \\\\\\\\\\\\\\\\\" ); // it takes 2 to make 1\n",
        " System.out.print( \"I hope you understand \\\"escape sequences\\\" now.\\n\" );\n",
        " // and comments. :)"
      ],
      "execution_count": 5,
      "outputs": [
        {
          "output_type": "stream",
          "text": [
            "Learn\tJava\n",
            "\tthe\n",
            "Hard\tWay\n",
            "\n",
            "\tLearn Java the \"Hard\" Way!\n",
            "Hello\n",
            "Jello\by\n",
            "Hard to believe, eh?\n",
            "Surprised? /* abcde */ Or what did you expect?\n",
            "\\ // -=- \\ //\n",
            "\\\\ \\\\\\ \\\\\\\\\n",
            "I hope you understand \"escape sequences\" now.\n"
          ],
          "name": "stdout"
        }
      ]
    },
    {
      "cell_type": "markdown",
      "metadata": {
        "id": "9eLTg8RdAt4b"
      },
      "source": [
        "## 2.4. Pernyataan dalam Java dan Blok\n",
        "\n",
        "Pernyataan adalah satu atau lebih baris kode yang diakhiri dengan semicolon. Sebagai contoh untuk pernyataan tunggal adalah\n",
        "\n",
        "```javascript\n",
        "System.out.println(“Hello world”);\n",
        "```\n",
        "\n",
        "Blok adalah satu atau lebih pernyataan yang terbentang antara kurung kurawal buka dan kurung kurawal tutup yaitu sekumpulan pernyataan sebagai satu unit kesatuan. Blok pernyataan dapat dikumpulkan akan tetapi tidak secara pasti mempunyai keterkaitan fungsi. Beberapa jumlah spasi kosong diijinkan terdapat didalamnya, sebagai contoh dari suatu blok adalah :\n",
        "\n",
        "```javascript\n",
        "\n",
        " System.out.println(\"Hello\"); System.out.println(\"world\");\n",
        "\n",
        "```"
      ]
    },
    {
      "cell_type": "markdown",
      "metadata": {
        "id": "lTEemo27BXKb"
      },
      "source": [
        "## 2.5. Java Identifier\n",
        "\n",
        "Java Identifier adalah suatu tanda yang mewakili nama-nama variabel, method, class, dsb.\n",
        "\n",
        "Contoh dari Identifier adalah : Hello, main, System, out.\n",
        "\n",
        "Pendeklarasian Java adalah **case-sensitive**. Hal ini berarti bahwa Identifier : *Hello* tidak sama dengan *hello*. Identifier harus dimulai dengan salah satu huruf, underscore “_”, atau tanda dollar **“$”**. Hurufnya dapat berupa huruf besar maupun huruf kecil. Karakter selanjutnya dapat menggunakan nomor 0 smpai 9.\n",
        "\n",
        "Identifier tidak dapat menggunakan kata kunci dalam Java seperti class, public, void, dsb.\n",
        "\n",
        "Selanjutnya kita akan berdiskusi lebih banyak tentang kata kunci dalam Java.\n",
        "\n",
        "\n",
        "> Petunjuk Penulisan Program:\n",
        ">  1.\tUntuk pemberian nama dari class Java, diberikan huruf kapital untuk huruf pertama pada nama class. Untuk nama method dan variabel, huruf pertama dari kata harus dimulai dengan huruf kecil. \n",
        "Sebagi contoh:\n",
        "*   **T**his**I**s**A**n**E**xample**O**f**C**lass**N**ame\n",
        "*   **t**his**I**s**A**n**E**xample**O**f**M**ethod**N**ame\n",
        "\n",
        "> 2.\tPada kasus untuk identifier lebih dari satu kata, menggunakan huruf kapital untuk mengindikasikan awal dari kata kecuali kata pertama. Sebagai contoh, *charArray, fileNumber, ClassName.*\n",
        "> 3.\tHindari menggunakan underscores pada awal identifier seperti *_read* atau *_write*."
      ]
    },
    {
      "cell_type": "markdown",
      "metadata": {
        "id": "nGsJKAsQrdec"
      },
      "source": [
        "##2.6. Latihan 2.2\n",
        "\n",
        "lakukan eksekusi pada baris kode pada cell code dibawah ini dengan menekan tombol >\n",
        "\n",
        "**Program 2.3.** Case Sensitive Case"
      ]
    },
    {
      "cell_type": "code",
      "metadata": {
        "id": "3tmylFOcui1y"
      },
      "source": [
        "String nama = \"STMIK El Rahma\";\n",
        "String Nama = \"El Rahma\";\n",
        "String NAMA = \"El Rahma STMIK\";\n",
        "\n",
        "System.out.println(nama);\n",
        "System.out.println(Nama);\n",
        "System.out.println(NAMA);"
      ],
      "execution_count": null,
      "outputs": []
    },
    {
      "cell_type": "markdown",
      "metadata": {
        "id": "WpZzKYMQbUqK"
      },
      "source": [
        "## 2.6. Keyword dalam Java\n",
        "\n",
        "Kata kunci adalah identifier yang telah dipesan untuk didefinisikan sebelumnya oleh Java untuk tujuan tertentu. Anda tidak dapat menggunakan keyword sebagai nama variabel, class, method Anda, dsb. Berikut ini adalah daftar dari kata kunci dalam Java (*Java Keywords*)\n",
        "\n",
        "| Keyword\t  | Keterangan  |\n",
        "| ----------- |-----------------| \n",
        "|*abstract*\t  |A non-access modifier. Used for classes and methods: An abstract class cannot be used to create objects (to access it, it must be inherited from another class). An abstract method can only be used in an abstract class, and it does not have a body. The body is provided by the subclass (inherited from)|\n",
        "|*assert*\t\t  |For debugging |  \n",
        "|*boolean*\t  |A data type that can only store true and false values | \n",
        "|*break*\t\t  |Breaks out of a loop or a switch block | \n",
        "|*byte*\t\t  |A data type that can store whole numbers from -128 and 127 | \n",
        "|*case*\t\t  |Marks a block of code in switch statements | \n",
        "|*catch*\t\t  |Catches exceptions generated by try statements | \n",
        "|*char*\t\t  |A data type that is used to store a single character | \n",
        "|*class*\t\t  |Defines a class | \n",
        "|*continue*\t  |Continues to the next iteration of a loop | \n",
        "|*const*\t\t  |Defines a constant. Not in use - use final instead | \n",
        "|*default*\t  |Specifies the default block of code in a switch statement | \n",
        "|*do*\t\t\t  |Used together with while to create a do-while loop | \n",
        "|*double*\t\t  |A data type that can store whole numbers from 1.7e−308 to 1.7e+308 | \n",
        "|*else*\t\t  |Used in conditional statements | \n",
        "|*enum*\t\t  |Declares an enumerated (unchangeable) type | \n",
        "|*exports*\t  |Exports a package with a module. New in Java 9 | \n",
        "|*extends*\t  |Extends a class (indicates that a class is inherited from another class) | \n",
        "|*final*\t\t  |A non-access modifier used for classes, attributes and methods, which makes them non-changeable (impossible to inherit or override)| \n",
        "|*finally*\t  |Used with exceptions, a block of code that will be executed no matter if there is an exception or not | \n",
        "|*float*\t\t  |A data type that can store whole numbers from 3.4e−038 to 3.4e+038 | \n",
        "|*for*\t\t  |Create a for loop | \n",
        "|*goto*\t\t  |Not in use, and has no function | \n",
        "|*if*\t\t\t  |Makes a conditional statement | \n",
        "|*implements*\t  |Implements an interface | \n",
        "|*import*\t\t  |Used to import a package, class or interface | \n",
        "|*instanceof*\t  |Checks whether an object is an instance of a specific class or an interface | \n",
        "|*int*\t\t  |A data type that can store whole numbers from -2147483648 to 2147483647 | \n",
        "|*interface*\t  |Used to declare a special type of class that only contains abstract methods | \n",
        "|*long*\t\t  |A data type that can store whole numbers from -9223372036854775808 to 9223372036854775808 | \n",
        "|*module*\t\t  |Declares a module. New in Java 9 | \n",
        "|*native*\t\t  |Specifies that a method is not implemented in the same Java source file (but in another language)| \n",
        "|*new*\t\t  |Creates new objects | \n",
        "|*package*\t  |Declares a package | \n",
        "|*private*  |An access modifier used for attributes, methods and constructors, making them only accessible within the declared class | \n",
        "|*protected*\t  |An access modifier used for attributes, methods and constructors, making them accessible in the same package and subclasses | \n",
        "|*public*\t\t  |An access modifier used for classes, attributes, methods and constructors, making them accessible by any other class | \n",
        "|*requires*\t  |Specifies required libraries inside a module. New in Java 9 | \n",
        "|*return*\t\t  |Finished the execution of a method, and can be used to return a value from a method | \n",
        "|*short*\t\t  |A data type that can store whole numbers from -32768 to 32767 | \n",
        "|*static*\t\t  |A non-access modifier used for methods and attributes. Static methods/attributes can be accessed without creating an object of a class | \n",
        "|*strictfp*\t  |Restrict the precision and rounding of floating point calculations | \n",
        "|*super*\t\t  |Refers to superclass (parent) objects | \n",
        "|*switch*\t\t  |Selects one of many code blocks to be executed | \n",
        "|*synchronized* |\tA non-access modifier, which specifies that methods can only be accessed by one thread at a time | \n",
        "|*this*\t\t  |Refers to the current object in a method or constructor | \n",
        "|*throw*\t\t  |Creates a custom error | \n",
        "|*throws*\t\t  |Indicates what exceptions may be thrown by a method | \n",
        "|*transient*\t  |A non-accesss modifier, which specifies that an attribute is not part of an object's persistent state | \n",
        "|*try*\t\t  |Creates a try...catch statement | \n",
        "|*var*\t\t  |Declares a variable. New in Java 10 | \n",
        "|*void*\t\t  |Specifies that a method should not have a return value | \n",
        "|*volatile*\t  |Indicates that an attribute is not cached thread-locally, and is always read from the \"main memory\" | \n",
        "|*while*\t\t  |Creates a while loop | \n",
        "\n",
        "Kita akan berdiskusi tentang semua arti dari masing-masing kata kunci dan bagaimana mereka digunakan dalam proses penulisan program Java.\n",
        "\n",
        "> **Catatan:** *true, false,* dan *null* bukan termasuk kata kunci akan tetapi mereka termasuk kata-kata khusus, jadi Anda tidak dapat menggunakan mereka sebagai nama variabel pada program Anda.\n"
      ]
    },
    {
      "cell_type": "markdown",
      "metadata": {
        "id": "8MuJk6DwhKD_"
      },
      "source": [
        "##2.7. Java Literals\n",
        "\n",
        "Literals adalah tanda bahwa tidak terjadi perubahan atau konstan. Macam-macam literals dalam Java adalah :*Integer Literals, Floating-Point Literals, Boolean Literals, Character Literals dan String Literals*.\n",
        "\n",
        "###2.7.1. Integer Literals\n",
        "Integer literals dibedakan dalam beberapa format yang berbeda: **desimal** (berbasis 10), **heksadesimal** (berbasis 16), and **oktal** (berbasis 8). Dalam penggunaan tipe data *integer* pada program, kita harus mengikuti aturan penggunaan beberapa notasi khusus.\n",
        "\n",
        "Untuk angka desimal, kita tidak memerlukan notasi khusus. Kita hanya menulis angka desimal seperti apa adanya. untuk angka heksadesimal, hal itu harus ditandai oleh “0x” atau “0X”. untuk oktal, ditandai oleh“0”.\n",
        "\n",
        "Sebagai contoh, mewakili angka **12**. Penulisan dalam bentuk desimalnya adalah **12**, Sementara dalam heksadesimal, menjadi **0xC**, dan dalam oktal, nilai tersebut sama dengan 014.\n",
        "\n",
        "Default tipe data untuk integer literals adalah **int**. Int adalah signed 32-bit value. Pada kasus-kasus tertentu Anda dapat berharap untuk memaksa integer literal untuk menjadi tipe data **long** dengan menambahkan karakter “l” or “L”. tipe data long ditandai oleh ditampilkannya data dalam 64-bit. Kita akan membahas mengenai tipe data pada kesempatan selanjutnya.\n",
        "\n"
      ]
    },
    {
      "cell_type": "markdown",
      "metadata": {
        "id": "Vm2rG0p7i2Xg"
      },
      "source": [
        "###2.7.2. Floating-Point Literals\n",
        "\n",
        "*Floating point literals* mewakili bentuk desimal dengan bagian yang terpisah. Sebagai contoh adalah 3.1415. Floating point literals dapat dinyatakan dalam notasi standard atau scientific. Sebagai contoh, 583.45 dinyatakan dalam notasi standard, Sementara 5.8345e2 dinyatakan dalam notasi scientific.\n",
        "\n",
        "**Default Floating point literals** mempunyai tipe data** double** yang dinyatakan dalam 64-bit. Untuk menggunakan ketelitian yang lebih kecil (32-bit) **float**, hanya dengan menambahkan karakter “f” atau “F”.\n",
        "\n",
        "###2.7.3. Boolean Literals\n",
        "\n",
        "*Boolean* literals hanya memiliki dua nilai, true atau false.\n",
        "\n",
        "###2.7.4. Character Literals\n",
        "\n",
        "Character Literals diwakili oleh karakter single Unicode. Karakter Unicode adalah 16-bit character set yang menggantikan 8-bit ASCII character set. Unicode memungkinkan pengunaan simbol dan karakter khusus dari bahasa lain.\n",
        "\n",
        "Untuk menggunakan character literals, karakter tersebut di dalam tanda single pute (' ') (*single quote delimiters*). Sebagai contoh huruf *a*, diwakili sebagai ***‘a’***.\n",
        "\n",
        "Untuk menggunakan karakter khusus seperti karakter baris baru, backslash digunakan diikuti dengan karakter kode. Sebagai contoh, ‘\\n’ untuk karakter baris baru atau ganti baris, ‘\\r’ untuk menyatakan nilai balik (carriage return), ‘\\b’ untuk backspace.\n",
        "\n",
        "\n",
        "##2.7.5. String Literals\n",
        "\n",
        "*String literals* mewakili beberapa karakter dan dinyatakan dalam tanda double pute(“ ”)( double quotes). Sebagai contoh *string literal* adalah, “**Hello World**”.\n"
      ]
    },
    {
      "cell_type": "markdown",
      "metadata": {
        "id": "5UHBo1_UkrPQ"
      },
      "source": [
        "##2.8. Tipe Data Primitif\n",
        "\n",
        "Bahasa pemrograman Java mendefinisikan delapan tipe data primitif. Mereka diantaranya adalah boolean (untuk bentuk logika), char (untuk bentuk tekstual), byte, short, int, long (integral), double and float (floating point).\n",
        "\n",
        "###2.8.1. logika - boolean\n",
        "\n",
        "Tipe data boolean diwakili oleh dua pernyataan : true dan false. Sebagai contoh adalah,\n",
        "```javascript\n",
        "boolean result = true;\n",
        "```\n",
        "Contoh yang ditunjukkan diatas, mendeklarasikan variabel yang dinamai result sebagai tipe data boolean dan memberinya nilai true.\n",
        "\n",
        "###2.8.2. teksual – char\n",
        "\n",
        "Tipe data character (char), diwakili oleh karakter single Unicode. Tipe data ini harus memiliki ciri berada dalam tanda single quotes(’ ’). Sebagai contoh,\n",
        "```javascript\n",
        "‘a’\t//Huruf a\n",
        "\n",
        "‘\\t’\t//A tab\n",
        "```\n",
        "Untuk menampilkan karakter khusus seperti ' (single quotes) atau \" (double quotes), menggunakan karakter escape \\. Sebagai contoh,\n",
        "```javascript\n",
        "'\\''\t//untuk single quotes\n",
        "\n",
        "'\\\"'\t//untuk double quotes\n",
        "```\n",
        "Meskipun String bukan merupakan tipe data primitif (namun merupakan suatu Class),kita akan memperkenalkan mengenai pada bagian ini. String mewakili tipe data yang terdiri atas beberapa karakter. Mereka tidak termasuk tipe data primitif, melainkan suatu class. Mereka memiliki literal yang terdapat diantara tanda double quotes(“”).\n",
        "\n",
        "Sebagai contoh,\n",
        "```javascript\n",
        "String message=“Hello world!”\n",
        "```"
      ]
    },
    {
      "cell_type": "markdown",
      "metadata": {
        "id": "BAKs_VpilSQm"
      },
      "source": [
        "### 2.8.3. Integral – byte, short, int & long\n",
        "\n",
        "Tipe data integral dalam Java menggunakan tiga bentuk- yaitu desimal, oktal atau heksadesimal. Contohnya,\n",
        "```javascript\n",
        "2\t//nilai desimal 2\n",
        "\n",
        "077\t//angka 0 pada awal pernyataan mengindikasikan nilai oktal\n",
        "0xBACC\t//karakter 0x mengindikasikan nilai heksadesimal\n",
        "```\n",
        "\n",
        "Tipe-tipe integral memiliki default tipe data yaitu int. Anda dapat merubahnya ke bentuk long dengan menambahkan huruf l atau L. Tipe data integral memiliki range sebagai berikut:\n",
        "\n",
        "\n",
        "|Integer Length\t|\tName or Type\t|\tRange |\n",
        "|----------------|---------------|-------|\t\t\t\t\n",
        "|8 bits |\tbyte\t|-27\tto  27-1|\t\t\t\n",
        "|16 bits|\tshort\t|-215\tto  215-1|\t\t\t\n",
        "|32 bits|\tint\t  |-231\tto  231-1|\t\t\t\n",
        "|64 bits|\tlong\t|-263\tto  263-1|\n",
        "\tTabel 1: Tipe-tipe integral dan range-nya\n",
        "\n",
        "> **Petunjuk Penulisan Program:** Dalam mendefinisikan suatu nilai long, lowercase L tidak dianjurkan karena sangat sulit untuk membedakan dari digit 1.\n",
        "\n"
      ]
    },
    {
      "cell_type": "markdown",
      "metadata": {
        "id": "l_bZ_b97mxCe"
      },
      "source": [
        "### 2.8.4. Floating Point – float dan double\n",
        "\n",
        "Tipe Floating point memiliki double sebagai default tipe datanya. Floating-point literal termasuk salah satunya desimal point atau salah satu dari pilihan berikut ini,\n",
        "\n",
        "```javascript\n",
        "E or e //(add exponential value)\n",
        "\n",
        "F or f //(float)\n",
        "\n",
        "D or d //(double)\n",
        "```\n",
        "\n",
        "Contohnya adalah,\t\n",
        "```javascript\n",
        "3.14\t//nilai floating-point sederhana (a double)\n",
        "6.02E23\t//A nilai floating-point yang besar\n",
        "2.718F\t//A nilai float size sederhana\n",
        "123.4E+306D\t//A nilai double yang besar dengan nilai redundant D\n",
        "```\n",
        "\n",
        "Pada contoh yang ditunjukkan diatas, 23 setelah E pada contoh kedua bernilai positif. Contoh tersebut sama dengan 6.02E+23. Tipe data Floating-point memiliki range sebagai berikut:\n",
        "\n",
        "|Panjang Float|\tNama atau Tipe|\tRange|\t\n",
        "|-------------|---------------|------|\t\t\t\t\n",
        "|32 bits|\tfloat  |\t-231\tto\t231-1 |\n",
        "|64 bits|\tdouble |\t-263\tto\t263-1 |\n",
        "\t\t\t\tTable 2: Tipe Floating point dan range nya\n",
        "\n",
        "\n"
      ]
    },
    {
      "cell_type": "markdown",
      "metadata": {
        "id": "qUcR04uunrLG"
      },
      "source": [
        "##2.9. Variabel\n",
        "\n",
        "Variabel adalah item yang digunakan data untuk menyimpan pernyataan objek.\n",
        "\n",
        "Variabel memiliki tipe data dan nama. Tipe data menandakan tipe nilai yang dapat dibentuk oleh variabel itu sendiri. Nama variabel harus mengikuti aturan untuk identifier.\n",
        "\n",
        "###2.9.1. Deklarasi dan Inisialisasi Variabel\n",
        "\n",
        "Untuk deklarasi variabel adalah sebagai berikut,\n",
        "```javascript\n",
        "<data tipe> <name> [=initial value];\n",
        "```\n",
        "> **Catatan:** Nilainya berada diantara <> adalah nilai yang disyaratkan, sementara nilai dalam tanda [] bersifat optional.\n",
        "\n",
        "Berikut ini adalah contoh program yang mendeklarasikan dan menginisialisasi beberapa variabel,\n",
        "```javascript\n",
        "  //deklarasi tipe data dengan nama variable\n",
        "  //\tresult dan tipe data boolean \n",
        "  boolean result;\n",
        "\n",
        "  //deklarasi tipe data dengan nama variabel\n",
        "  //\toption dan tipe data char\n",
        "  charoption;\n",
        "  option = 'C';   //menandai 'C' sebagai option\n",
        "\n",
        "  //deklarasi tipe data dengan nama variabel\n",
        "  //grade, double tipe data dan telah di inisialisasi //to 0.0\n",
        "  double\tgrade = 0.0;\n",
        "```\n",
        "\n",
        ">Petunjuk Penulisan Program:\n",
        ">1. Sangat baik untuk menginisialisasi variabel yang Anda buat seperti Anda mendeklarasikannya.\n",
        ">2.\tGunakan nama yang bersifat menggambarkan deskriptif untuk variabel yang Anda buat, jika Anda ingin mempunyai variabel yang terdiri atas nilai siswa, beri nama dengan nama grade dan jangan hanya beberapa huruf random yang Anda pilih.\n",
        "\n",
        "Deklarasikan satu variabel tiap baris kode. Sebagai contoh , deklarasi variabel adalah sebagai berikut,\n",
        "```javascript\n",
        "  double exam=0;\n",
        "  double quiz=10;\n",
        "  double grade = 0;\n",
        "  //Bentuk yang lebih disukai ketika melakukan deklarasi adalah, \n",
        "  double exam=0, quiz=10, grade=0;\n",
        "```\n"
      ]
    },
    {
      "cell_type": "markdown",
      "metadata": {
        "id": "0eQSqLBnuZCR"
      },
      "source": [
        "### 2.9.2 Latihan 2.3\n",
        "\n",
        "lakukan eksekusi pada baris kode pada cell code dibawah ini dengan menekan tombol >\n",
        "\n",
        "Amatilah hasilnya\n",
        "\n",
        "**Program 2.3** Creating Variables"
      ]
    },
    {
      "cell_type": "code",
      "metadata": {
        "id": "tACuB-J2p81H"
      },
      "source": [
        "int x, y, age;\n",
        " double seconds, e, checking;\n",
        " String firstName, lastName, title;\n",
        "\n",
        " x = 10;\n",
        " y = 400;\n",
        " age = 39;\n",
        "\n",
        " seconds = 4.71;\n",
        " e = 2.71828182845904523536;\n",
        " checking = 1.89;\n",
        "\n",
        " firstName = \"Valentino\";\n",
        " lastName = \"Rossi\";\n",
        " title = \"Mr.\";\n",
        "\n",
        " System.out.println( \"The variable x contains \" + x );\n",
        " System.out.println( \"The value \" + y + \" is stored in the variable y.\" );\n",
        " System.out.println( \"The experiment took \" + seconds + \" seconds.\" );\n",
        " System.out.println( \"A favorite irrational # is Euler's number: \" + e );\n",
        " System.out.println( \"Hopefully you have more than $\" + checking + \"!\" );\n",
        " System.out.println( \"My name's \" + title + \" \" + firstName + lastName );"
      ],
      "execution_count": null,
      "outputs": []
    },
    {
      "cell_type": "markdown",
      "metadata": {
        "id": "KFr2wB4PpFfe"
      },
      "source": [
        "###2.9.2. Menampilkan Data Variabel\n",
        "\n",
        "Untuk mengeluarkan nilai dari variabel yang diinginkan, kita dapat menggunakan perintah sebagai berikut,\n",
        "```javascript\n",
        "System.out.println()\n",
        "System.out.print()\n",
        "```\n",
        "\n",
        "Berikut ini adalah contoh program,\n",
        "```javascript\n",
        "int value = 10;\n",
        "char x;\n",
        "x = ‘A’;\n",
        "\n",
        "System.out.println( value ); \n",
        "\n",
        "System.out.println( “The value of x=” + x );\n",
        "```\n",
        "Program tersebut akan mengeluarkan teks berikut pada layar,\n",
        "```javascript\n",
        "10\n",
        "The value of x=A\n",
        "```\n",
        "###2.9.3. System.out.println() vs. System.out.print()\n",
        "\n",
        "Apa yang membedakan diantara perintah System.out.println() and System.out.print()? Yang pertama menambahkan baris baru pada akhir data untuk dikeluarkan, sementara selanjutnya tidak.\n",
        "\n",
        "Perhatikan pernyataan tersebut,\n",
        "```javascript\n",
        "System.out.print(\"Hello \");\n",
        "System.out.print(\"world!\");\n",
        "```\n",
        "Pernyataan tersebut akan menghasilkan output berikut ini pada layar,\n",
        "```javascript\n",
        "Hello world!\n",
        "```\n",
        "Sekarang perthatikan pernyataan berikut,\n",
        "```javascript\n",
        "System.out.println(\"Hello \");\n",
        "System.out.println(\"world!\");\n",
        "```\n",
        "Pernyataan ini akan menghasilkan output sebagai berikut pada layar,\n",
        "```javascript\n",
        "Hello\n",
        "world!\n",
        "```\n",
        "\n",
        "\n"
      ]
    },
    {
      "cell_type": "markdown",
      "metadata": {
        "id": "cDsU-UlUtuJ9"
      },
      "source": [
        "### 2.9.4. Latihan 2.4\n",
        "\n",
        "lakukan eksekusi pada baris kode pada cell code dibawah ini dengan menekan tombol >\n",
        "\n",
        "Amatilah hasilnya\n",
        "\n",
        "**Program 2.4** Printing Choices"
      ]
    },
    {
      "cell_type": "code",
      "metadata": {
        "id": "sLTGivCVtvWN"
      },
      "source": [
        "\t System.out.println( \"Alpha\" );\n",
        "\t System.out.println( \"Bravo\" );\n",
        "\n",
        "\t System.out.println( \"Charlie\" );\n",
        "\t System.out.println( \"Delta\" );\n",
        "\t System.out.println();\n",
        "\n",
        "\t System.out.print( \"Echo\" );\n",
        "\t System.out.print( \"Foxtrot\" );\n",
        "\n",
        "\t System.out.println( \"Golf\" );\n",
        "\t System.out.print( \"Hotel\" );\n",
        "\t System.out.println();\n",
        "\t System.out.println( \"India\" );\n",
        "\n",
        "\t System.out.println();\n",
        "\t System.out.println( \"This\" + \" \" + \"is\" + \" \" + \"a\" + \" test.\" );"
      ],
      "execution_count": null,
      "outputs": []
    },
    {
      "cell_type": "markdown",
      "metadata": {
        "id": "1BF-A0oPrBL_"
      },
      "source": [
        "## **Tugas I**\n",
        "\n",
        "**No. 1**\n",
        "\n",
        "Bagaimanakah hasil eksekusi kode dibawah ini? \n",
        "```javascript\n",
        "\t\tSystem.out.println( \"+------------------------+\" );\n",
        "\t\tSystem.out.println( \"| |\" );\n",
        "\t\tSystem.out.println( \"| SPBU 212 |\" );\n",
        "\t\tSystem.out.println( \"| |\" );\n",
        "\t\tSystem.out.println( \"| 2021-03-29 04:38PM |\" );\n",
        "\t\tSystem.out.println( \"| |\" );\n",
        "\t\tSystem.out.println( \"| Bensin (L): 10 |\" );\n",
        "\t\tSystem.out.println( \"| Harga/Liter: Rp 2.100 |\" );\n",
        "\t\tSystem.out.println( \"| |\" );\n",
        "\t\tSystem.out.println( \"| Harga total: R 21.0100 |\" );\n",
        "\t\tSystem.out.println( \"| |\" );\n",
        "\t\tSystem.out.println( \"+------------------------+\" );\n",
        "```\n",
        "Rapikanlan tammpilan struk pembelian diaatas agar lebih baik"
      ]
    },
    {
      "cell_type": "code",
      "metadata": {
        "id": "ZHRMm93G0wW-"
      },
      "source": [
        "//Jawaban No 1"
      ],
      "execution_count": null,
      "outputs": []
    },
    {
      "cell_type": "markdown",
      "metadata": {
        "id": "cdgrSjRr0Eq5"
      },
      "source": [
        "**No. 2**\n",
        "\n",
        "Tambahkan Nama Anda pada struk pembelian program soal no.2 diatas \n"
      ]
    },
    {
      "cell_type": "code",
      "metadata": {
        "id": "qnnQqrF05px3"
      },
      "source": [
        "//Jawaban No 2"
      ],
      "execution_count": null,
      "outputs": []
    },
    {
      "cell_type": "markdown",
      "metadata": {
        "id": "mehElv7g2elb"
      },
      "source": [
        "**No. 3**\n",
        "\n",
        "Buka kembali **Latihan 2.4** *Program 2.4*  diatas tambahkan statment \"Saya Sedang Belajar\" \"Pemrograman Java\", dinama dua kaliman tersbut tidak tercetak bersambung dilayar"
      ]
    },
    {
      "cell_type": "code",
      "metadata": {
        "id": "RcxwxmoI5kgz"
      },
      "source": [
        "//Jawaban No 3"
      ],
      "execution_count": null,
      "outputs": []
    },
    {
      "cell_type": "markdown",
      "metadata": {
        "id": "U_APdJOD3MpD"
      },
      "source": [
        "**SOAL UTS**\n",
        "\n",
        "**No 1.**\n",
        "\n",
        "Tambahkan 4 (empat) variable lagi dengan tipe data masing masing :\n",
        "\n",
        "* integer, double, and  dua buah Strings. \n",
        "\n",
        "Berikan nama bebas sekaligus berikan nilai untuk masing - masing variable, untuk kemudian berikan perintah cetak untuk semua variable"
      ]
    },
    {
      "cell_type": "code",
      "metadata": {
        "id": "BBn_Ef4z5uqg"
      },
      "source": [
        "//Jawaban No 3"
      ],
      "execution_count": null,
      "outputs": []
    }
  ]
}
