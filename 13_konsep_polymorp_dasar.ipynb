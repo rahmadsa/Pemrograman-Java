{
  "cells": [
    {
      "cell_type": "markdown",
      "metadata": {
        "id": "view-in-github",
        "colab_type": "text"
      },
      "source": [
        "<a href=\"https://colab.research.google.com/github/rahmadsa/Pemrograman-Java/blob/main/13_konsep_polymorp_dasar.ipynb\" target=\"_parent\"><img src=\"https://colab.research.google.com/assets/colab-badge.svg\" alt=\"Open In Colab\"/></a>"
      ]
    },
    {
      "cell_type": "markdown",
      "metadata": {
        "id": "bUB6YkbKzq6e"
      },
      "source": [
        "\n",
        "\n",
        "---\n",
        "\n"
      ]
    },
    {
      "cell_type": "markdown",
      "metadata": {
        "id": "7QbClP-5yKVi"
      },
      "source": [
        "### Petunjuk Penting !!\n",
        "\n",
        "####  Lakukan Inisialisasi Java Kompailer untuk Google Colab\n",
        "Notebook ini menggunakan Java di Google Colaboratory sebagai kompailer. Untuk itu lakukan dua langkah dibawah ini sebelum anda bekerja dengan notebook ini\n",
        "\n",
        "1. Jalankan perintah pada cell diabawah ini (klik tombol run atau tekan tombol `Shift`+`Enter` secara bersamaan)"
      ]
    },
    {
      "cell_type": "code",
      "execution_count": null,
      "metadata": {
        "id": "lUr92Wb1yzXm"
      },
      "outputs": [],
      "source": [
        "//init java please..."
      ]
    },
    {
      "cell_type": "markdown",
      "metadata": {
        "id": "05gvKabVzOQD"
      },
      "source": [
        "2. Kemudian refresh halaman notebook (page) (tekan tombol `F5`) atau that. atau tekan tombol refresh/reload. "
      ]
    },
    {
      "cell_type": "markdown",
      "metadata": {
        "id": "fizVCMLKzf8A"
      },
      "source": [
        "---\n"
      ]
    },
    {
      "cell_type": "markdown",
      "metadata": {
        "id": "VD3Bt8LiFs-E"
      },
      "source": [
        "# 15. **Konsep Polimorpisme Dasar**\n",
        "\n",
        "Polimorfisme(bahasa inggris *polymorphism*) adalah sebuah prinsip dalam biologi di mana oraganisme atau spesias dapat memiliki banyak bentuk atau tahapan (*stages*). \n",
        " \n",
        "## 15.1 **Tujuan**\n",
        "Setelah mengikuti meteri ini mahasiswa diharapkan dapat :\n",
        "1. Mahasiswa memahami konsep *polymorphism* dalam PBO\n",
        "2. Mahasiswa mampu menerapkan konsep  *polymorphism* dalam PBO\n",
        "\n",
        "\n",
        "## 15.2. **Uraian Materi**\n",
        "\n",
        "Polimorfisme(bahasa inggris polymorphism) adalah sebuah prinsip dalam biologi di mana oraganisme atau spesias dapat memiliki banyak bentuk atau tahapan (*stages*). \n",
        "\n",
        "Prinsip ini juga diadopsi pada pemrograman berorientasikan objek.\n",
        "\n",
        "Sehingga kita dapat definisikan sebagai berikut:\n",
        "\n",
        "Polimorfisme dalam OOP adalah sebuah prinsip di mana class dapat memiliki banyak “bentuk” method yang berbeda-beda meskipun namanya sama.\n",
        "\n",
        "“Bentuk” di sini dapat kita artikan: isinya berbeda, parameternya berbeda, dan tipe datanya berbeda.\n",
        "\n",
        "Polimorfisme pada Java ada dua macam:\n",
        "\n",
        "    • Static Polymorphism (Polimorfisme statis).\n",
        "    • Dynamic Polymorphism (Polimorfisme dinamis).\n",
        "      \n",
        "Beda dari kedua bentuk Polimorfisme  terletak pada cara membuat polimorfismenya.\n",
        "\n",
        "    • Method overloading adalah bentuk Polimorfisme statis \n",
        "    • Sedangkan method overriding polimorfisme dinamis.\n",
        "\n",
        "Karena kamu baru mendengar kedua hal ini, berikut ini akan kita bahas perbedaanya lebih detail."
      ]
    },
    {
      "cell_type": "markdown",
      "source": [
        "### 15.2.1 **Perbedaan Method Overloading dengan Method Overriding**\n",
        "\n",
        "Method overloading terjadi pada sebuah class yang memiliki nama method yang sama tapi memiliki parameter dan tipe data yang berbeda. Untuk lebih mudahnya prinsip Method Overloading adalah\n",
        "    • “Dalam satu class”\n",
        "    • “Nama method sama”\n",
        "    • “Tipe data dan parameter beda”\n",
        "\n",
        "\n",
        "### 15.2.2 **Polimorfisme Statis Dengan Overloading** \n",
        "\n",
        "Ada dua macam bentuk polimorfisme Statis dengan overloading.\n",
        "\n",
        "### 15.2.2.1 **Polimorfisme Statis  Dengan Method Overloading** \n",
        "\n",
        "Berikut adalah contoh bentuk overloading dalam class Lingkaran. Pada class ini terdapat method luas().\n",
        "\n",
        "Pada Class Lingkaran Method *luas()* bisa dibuat lebih dari satu Tapi  masing masing method *luas()* ini bisa saja memiliki parameter yang berbeda.\n",
        "\n",
        "Misalnya kita ingin menghitung luas berdasarkan jari-jari (radius) atau diameter.\n",
        "\n",
        "Maka kita dapat membuat class sebagai berikut\n",
        "\n",
        "```javascript\n",
        "class Lingkaran {\n",
        "\n",
        "    // method menghitung luas dengan jari-jari\n",
        "    float luas(float r){\n",
        "        return (float) (Math.PI * r * r);\n",
        "    }\n",
        "\n",
        "    // method menghitung luas dengan diameter\n",
        "    double luas(double d){\n",
        "        return (double) (1/4 * Math.PI * d);\n",
        "    }\n",
        "\n",
        "}\n",
        "```\n",
        "Class Lingkaran memiliki dua method yang namanya sama, yakni *luas()*.\n",
        "\n",
        "Tapi parameter dan tipe datanya berbeda dari method *Luas()*, demikian juga isi method atau rumus di dalamnya berbeda.\n",
        "\n",
        "Hal diatas adalah salah satu bentuk polimorfisme statis.\n",
        "\n",
        "### 15.2.2.2 **Polimorfisme Statis  Dengan Method Overloading Pada Construktor** \n",
        "\n",
        "Contruktor Class adalah merupakan bentuk method overloading. Berikut ini adalah class Lingkaran dengan dua buah contruktor.\n",
        "\n",
        "```javascript\n",
        "class Lingkaran {\n",
        "\t\n",
        "\tfloat r;\n",
        "\t\n",
        "\tLingkaran(){\n",
        "\t\tSystem.out.println(\"Konstruktor Run. \");\n",
        "\t}\n",
        "\t\n",
        "\tLingkaran(float parmr){\n",
        "\t\tr = parmr;\n",
        "\t}\n",
        "\n",
        "}\n",
        "```\n",
        "Pada kode diatas terdapat dua contruktor dengan nama sama yaitu *Lingkaran()*. Pada masing method tersebut mempunyai parameter dan isi berbeda."
      ],
      "metadata": {
        "id": "Wo__VkisvCiO"
      }
    },
    {
      "cell_type": "markdown",
      "source": [
        "### 15.2.3 **Polimorfisme Dinamis Dengan  Overriding** \n",
        "![Contoh Modifire](https://github.com/rahmadsa/Pemrograman-Java/blob/main/images/polydinamis.png?raw=true)\n",
        "\n",
        "Pada diagram tersebut, terdapat class BanungDatar yang memiliki tiga subclass, yaitu: Persegi, Lingkaran, dan Segitiga.\n",
        "\n",
        "Setiap class memiliki method yang sama yaitu *luas()* dan *keliling()*. Akan tetapi method-method ini memiliki isi rumus yang berbeda.\n",
        "\n",
        "Dari diagram diatas struktur class baru dengan BangunDatar adalah sebagai berikut.\n",
        "```javascript\n",
        "\n",
        "class BangunDatar {\n",
        "    float luas(){\n",
        "        System.out.println(\"Menghitung luas bangun datar\");\n",
        "        return 0;\n",
        "    }\n",
        "    \n",
        "    float keliling(){\n",
        "        System.out.println(\"Menghitung keliling bangun datar\");\n",
        "        return 0;\n",
        "    }\n",
        "}\n",
        "```\n",
        "Kemudian Class  Persegi  dengan struktur kodenya seperti ini:\n",
        "\n",
        "```javascript\n",
        "class Persegi extends BangunDatar{\n",
        "    int sisi;\n",
        "    \n",
        "    public Persegi(int sisi) {\n",
        "        this.sisi = sisi;\n",
        "    }\n",
        "    \n",
        "    @Override\n",
        "    public float luas() {\n",
        "        return this.sisi * this.sisi;\n",
        "    }\n",
        "    \n",
        "    @Override\n",
        "    public float keliling(){\n",
        "        return this.sisi * 4;\n",
        "    }\n",
        "}\n",
        "```\n",
        "Selanjutnya Class Segitiga dengan struktur kodenya seperti ini:\n",
        "```javascript\n",
        "class Segitiga extends BangunDatar{\n",
        "   int alas;\n",
        "   int tinggi;\n",
        "\n",
        "    public Segitiga(int alas, int tinggi) {\n",
        "        this.alas = alas;\n",
        "        this.tinggi = tinggi;\n",
        "    }\n",
        "   \n",
        "    \n",
        "   @Override\n",
        "   public float luas(){\n",
        "       return this.alas * this.tinggi;\n",
        "   }\n",
        "}\n",
        "```\n",
        "Dan struktur Class Lingkaran adalah sebagi berikut:\n",
        "```javascript\n",
        "class Lingkaran extends BangunDatar {\n",
        "    int r;\n",
        "\n",
        "    public Lingkaran(int r) {\n",
        "        this.r = r;\n",
        "    }\n",
        "    \n",
        "    @Override\n",
        "    public float luas(){\n",
        "        return (float) (Math.PI * r * r);\n",
        "    }\n",
        "    \n",
        "    @Override\n",
        "    public float keliling(){\n",
        "        return (float) (2 * Math.PI * r);\n",
        "    }\n",
        "    \n",
        "}\n",
        "```\n",
        "Dari penerapan *overide* pada beberapa class diatas penerapan instanisasi objeknya adalah sebagi berikut.\n",
        "\n",
        "```javascript\n",
        "\n",
        "      BangunDatar bangunDatar = new BangunDatar();\n",
        "        Persegi persegi = new Persegi(4);\n",
        "        Segitiga segitiga = new Segitiga(6, 3);\n",
        "        Lingkaran lingkaran = new Lingkaran(50);\n",
        "        \n",
        "        // memanggil method luas dan keliling\n",
        "        bangunDatar.luas();\n",
        "        bangunDatar.keliling();\n",
        "        \n",
        "        System.out.println(\"Luas persegi: \" + persegi.luas());\n",
        "        System.out.println(\"keliling persegi: \" + persegi.keliling());\n",
        "        System.out.println(\"Luas segitiga: \" + segitiga.luas());\n",
        "        System.out.println(\"Luas lingkaran: \" + lingkaran.luas());\n",
        "        System.out.println(\"keliling lingkaran: \" + lingkaran.keliling());\n",
        "\n",
        "```\n"
      ],
      "metadata": {
        "id": "T96pfZuB0Pfm"
      }
    },
    {
      "cell_type": "code",
      "source": [
        "//Kode Latihan 15.1"
      ],
      "metadata": {
        "id": "QZgy2lDnX2jQ"
      },
      "execution_count": null,
      "outputs": []
    }
  ],
  "metadata": {
    "colab": {
      "collapsed_sections": [],
      "name": "13_konsep_polymorp_dasar.ipynb",
      "provenance": [],
      "include_colab_link": true
    },
    "kernelspec": {
      "display_name": "Java",
      "language": "java",
      "name": "java"
    },
    "language_info": {
      "codemirror_mode": "java",
      "file_extension": ".jshell",
      "mimetype": "text/x-java-source",
      "name": "java",
      "pygments_lexer": "java",
      "version": "17.0.1+12-LTS-39"
    },
    "toc": {
      "base_numbering": 1,
      "nav_menu": {},
      "number_sections": false,
      "sideBar": false,
      "skip_h1_title": false,
      "title_cell": "Table of Contents",
      "title_sidebar": "Contents",
      "toc_cell": false,
      "toc_position": {},
      "toc_section_display": false,
      "toc_window_display": false
    }
  },
  "nbformat": 4,
  "nbformat_minor": 0
}
