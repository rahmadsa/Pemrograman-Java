{
  "cells": [
    {
      "cell_type": "markdown",
      "metadata": {
        "id": "view-in-github",
        "colab_type": "text"
      },
      "source": [
        "<a href=\"https://colab.research.google.com/github/rahmadsa/Pemrograman-Java/blob/main/9_intro_class_and_objek.ipynb\" target=\"_parent\"><img src=\"https://colab.research.google.com/assets/colab-badge.svg\" alt=\"Open In Colab\"/></a>"
      ]
    },
    {
      "cell_type": "code",
      "execution_count": null,
      "metadata": {
        "id": "iikHUtEExLIP"
      },
      "outputs": [],
      "source": [
        ""
      ]
    },
    {
      "cell_type": "markdown",
      "metadata": {
        "id": "bUB6YkbKzq6e"
      },
      "source": [
        "\n",
        "\n",
        "---\n",
        "\n"
      ]
    },
    {
      "cell_type": "markdown",
      "metadata": {
        "id": "7QbClP-5yKVi"
      },
      "source": [
        "### Petunjuk Penting !!\n",
        "\n",
        "####  Lakukan Inisialisasi Java Kompailer untuk Google Colab\n",
        "Notebook ini menggunakan Java di Google Colaboratory sebagai kompailer. Untuk itu lakukan dua langkah dibawah ini sebelum anda bekerja dengan notebook ini\n",
        "\n",
        "1. Jalankan perintah pada cell diabawah ini (klik tombol run atau tekan tombol `Shift`+`Enter` secara bersamaan)"
      ]
    },
    {
      "cell_type": "code",
      "execution_count": null,
      "metadata": {
        "id": "lUr92Wb1yzXm"
      },
      "outputs": [],
      "source": [
        "//init java please..."
      ]
    },
    {
      "cell_type": "markdown",
      "metadata": {
        "id": "05gvKabVzOQD"
      },
      "source": [
        "2. Kemudian refresh halaman notebook (page) (tekan tombol `F5`) atau that. atau tekan tombol refresh/reload. "
      ]
    },
    {
      "cell_type": "markdown",
      "metadata": {
        "id": "fizVCMLKzf8A"
      },
      "source": [
        "---\n"
      ]
    },
    {
      "cell_type": "markdown",
      "metadata": {
        "id": "VD3Bt8LiFs-E"
      },
      "source": [
        "# 11. Pengenalan Konsep Objek Dan Class\n",
        "\n",
        "Pemrograman Berorientasi Objek adalah sebuah paradigma pemrograman yang saat ini masih banyak digunakan.\n",
        "\n",
        "## 11.1 Tujuan\n",
        "Setelah mengikuti meteri ini mahasiswa diharapkan dapat :\n",
        "1. Memahami perbedaan class dan obyek\n",
        "2. Menyajikan pembuatan class\n"
      ]
    },
    {
      "cell_type": "markdown",
      "metadata": {
        "id": "Xk1iUl0icR26"
      },
      "source": [
        "## 11.2 Uraian Materi\n",
        "\n",
        "### 11.2.1 Pemrograman Berorientasi Objek\n",
        "OOP (Object Oriented Programming) atau dalam bahasa indonesia dikenal dengan pemrograman berorientasikan objek (PBO) merupakan sebuah paradigma atau teknik pemrograman yang berorientesikan Objek.\n",
        "\n",
        "\n",
        "### 11.2.2 Alasan Untuk Belajar Java\n",
        "Salah satu alasan untuk belajar Java adalah untuk mempelajari metode *Object Oriented Programming* atau OOP lebih dalam.  *Object Oriented Programming* atau Pemrograman Berorientasi Objek yang disingkat PBO menjadi dasar dalam pemrograman Java.\n",
        "\n",
        "Berikut ini adalah contoh program pertama dengan bahasa pemrograman Java, pada saat kita memprogram aplikasi sederhanapun kita diwajibkan menggunakan class.\n",
        "``` javascript\n",
        "class HelloWord {\n",
        "    public static void main(String[] args){\n",
        "        System.out.println(\"Hello World!\");\n",
        "    }\n",
        "}\n",
        "```\n",
        "\n",
        "### 11.2.3 Pemrograman OOP VS Pemrograman Prosedural\n",
        "Pada masa sebelumnya sudah diperkenalkan metode Pemrograman Prosedural/Terstuktur.\n",
        "\n",
        "Pada pemrograman prosedural, kita biasanya memecah program menjadi beberapa prosedur/modul/fungsi.\n",
        "Kemudian membuat variabel global dan lokal untuk menyimpan data.\n",
        "\n",
        "![Pemrograman Prosedural](https://github.com/rahmadsa/Pemrograman-Java/blob/main/images/ProceduralProgramming.jpg?raw=true)\n",
        "\n",
        "\n",
        "Tapi ketika masalahnya senakin kompleks demikian juga program juga semakin besar dan kompleks dan diikuti Kode sumber dari aplikasi juga semakin kompleks. Hal yang terjadi adalah kode program akan sulit di-maintenance.\n",
        "\n",
        "Pada OOP, Fungsi dan variabel dibungkus dalam sebuah objek atau class yang dapat saling brinteraksi, sehingga membentuk sebuah program.\n",
        "\n",
        "Variable dan Fungsi disatukan dalam satu wadah class, dengan demikian, tidak akan ada lagi kode yang “berantakan” karena Variable dan Fungsi yang terpisah - pisah. Semua akan kita bungkus dalam objek.\n",
        "\n",
        "![Pemrograman Prosedural](https://github.com/rahmadsa/Pemrograman-Java/blob/main/images/OOPvsProcedural.jpg?raw=true)\n",
        "\n",
        "\n",
        "\t"
      ]
    },
    {
      "cell_type": "markdown",
      "source": [
        "### 11.2.4 Perbedaan Class dan Obyek\n",
        "Tapi sebelum membuat objek, kita harus membuat class dulu\n",
        "Pada dunia perangkat lunak, sebuah obyek adalah sebuah komponen\n",
        "perangkat lunak yang stukturnya mirip dengan objek pada dunia nyata.\n",
        "\n",
        "Setiap objek dibangun dari sekumpulan data (*attribute*) yang disebut *variable*\n",
        "untuk menjabarkan karakteristik khusus dari objek tersebut. \n",
        "\n",
        "Selain **atribut** subuah objek juga terdiri dari sekumpulan method atau fungsi yang menjabarkan tingkah laku dari obyek. \n",
        "\n",
        "Bisa dikatakan bahwa obyek adalah sebuah perangkat lunak yang berisi\n",
        "sekumpulan variable dan method yang saling berhubungan. Variabel dan method\n",
        "dalam objek Java secara formal diketahui sebagai variabel instance dan\n",
        "method instance. Hal ini dilakukan untuk membedakan dari variable class dan method class, dimana akan dibahas kemudian.\n",
        "\n",
        "*Class* adalah struktur dasar dari OOP. Class terdiri dari dua tipe kompunen utama disebut yaitu field (*attribut/property*) dan method(fungsi). \n",
        "\n",
        "1. Field (*attribut/property*) merupakan tipe data yang didefinisikan oleh class\n",
        "2. Fungsi (*Method*) merupakan operasi darisuatu algoritma komputer. \n",
        "\n",
        "> Sebuah obyek adalah sebuah instance atau implementasi dari suatu *class*.\n",
        "\n",
        "Untuk dapat membedakan antara class dan obyek, mari kita lihat beberapa contoh berikut ini. Sebagai contoh kita memiliki sebuah **class mobil** dimana dapat digunakan untuk medefinisikan beberapa obyek mobil. \n",
        "\n",
        "Pada gambar dibawah, terdapat tiga buah objek yaitu **Sedan_1**, **Bis_1** dan **Truk_X**. Ketiga objek tersebut adalah obyek dari class mobil. \n",
        "\n",
        "Class Mobil memiliki field / atribut nomor, plat, warna, manufaktur dan kecepatan yang beriisi dengan nilai dari ciri objek masing- masing.\n",
        "\n",
        "![Objek dan Class](https://raw.githubusercontent.com/rahmadsa/Pemrograman-Java/c6024e43c10b43130b766a91fab01a8ef68f0110/images/class-objek.jpg)\n",
        "\n",
        "Dengan class, kita bisa menentukan variabel dan prosedur apa saja untuk untuk kendaraan, yaitu nokendaraan dan Jalan().\n",
        "\n",
        "Class ini nanti yang akan kita pakai untuk membuat objek.\n",
        "\n",
        "\n",
        "> **Class** adalah rancangan atau blue print dari sebuah objek.\n",
        "\n",
        "> Sedangkan **Objek** adalah sebuah variabel yang merupakan instance atau perwujudan dari Class.\n",
        "\n",
        "Instance bisa diartikan sebagai wujud dari class.\n",
        "\n",
        "Class berisi definisi variabel dan fungsi yang menggambarkan sebuah objek.\n",
        "\n",
        "> Dalam OOP **Variabel** disebut **atribut** atau **properti**\n",
        "    \n",
        "> Sedangkan **Fungsi** disebut **method**.\n",
        "\n",
        "Syntak dan Struktur Class\n",
        "\n",
        "``` javascript\n",
        "class NamaClass {\n",
        "    TypeData atribut1;\n",
        "    TypeData atribut2;\n",
        "\n",
        "    [TypeDataKembalian] namaMethod(){\n",
        "    // statemen atau kode fungsi\n",
        "    }\n",
        "    [TypeDataKembalian] namaMethodLain(){ ... }\n",
        "}\n",
        "```\n",
        "Lalu, Kita biasanya membuat objek (instance) seperti ini:\n",
        "\n",
        "``` javascript\n",
        "NamaClass namaObj = new NamaClass();\n",
        "```\n",
        "\n",
        "Kata kunci new berfungsi untuk membuat objek baru dari class tertentu.\n",
        "\n",
        "Setelah membuat objek, kita bisa mengakses atribut dan method dari objek tersebut.\n",
        "\n",
        "Contoh:\n",
        "``` javascript\n",
        "namaObj.namaMethod();\n",
        "namaObj.atribut1;\n",
        "```\n",
        "\n",
        "Tanda titik (.) berfungsi untuk mengakses atribut dan method."
      ],
      "metadata": {
        "id": "W4TZArPm1f_y"
      }
    }
  ],
  "metadata": {
    "colab": {
      "collapsed_sections": [],
      "name": "9_intro_class_and_objek_gh.ipynb",
      "provenance": [],
      "include_colab_link": true
    },
    "kernelspec": {
      "display_name": "Java",
      "language": "java",
      "name": "java"
    },
    "language_info": {
      "codemirror_mode": "java",
      "file_extension": ".jshell",
      "mimetype": "text/x-java-source",
      "name": "java",
      "pygments_lexer": "java",
      "version": "17.0.1+12-LTS-39"
    },
    "toc": {
      "base_numbering": 1,
      "nav_menu": {},
      "number_sections": false,
      "sideBar": false,
      "skip_h1_title": false,
      "title_cell": "Table of Contents",
      "title_sidebar": "Contents",
      "toc_cell": false,
      "toc_position": {},
      "toc_section_display": false,
      "toc_window_display": false
    }
  },
  "nbformat": 4,
  "nbformat_minor": 0
}