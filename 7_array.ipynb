{
  "nbformat": 4,
  "nbformat_minor": 0,
  "metadata": {
    "colab": {
      "name": "7_array.ipynb",
      "provenance": [],
      "collapsed_sections": [],
      "toc_visible": true,
      "include_colab_link": true
    },
    "kernelspec": {
      "name": "java",
      "display_name": "Java"
    },
    "language_info": {
      "name": "java"
    }
  },
  "cells": [
    {
      "cell_type": "markdown",
      "metadata": {
        "id": "view-in-github",
        "colab_type": "text"
      },
      "source": [
        "<a href=\"https://colab.research.google.com/github/rahmadsa/Pemrograman-Java/blob/main/7_array.ipynb\" target=\"_parent\"><img src=\"https://colab.research.google.com/assets/colab-badge.svg\" alt=\"Open In Colab\"/></a>"
      ]
    },
    {
      "cell_type": "code",
      "metadata": {
        "id": "iikHUtEExLIP"
      },
      "source": [
        ""
      ],
      "execution_count": null,
      "outputs": []
    },
    {
      "cell_type": "markdown",
      "metadata": {
        "id": "bUB6YkbKzq6e"
      },
      "source": [
        "\n",
        "\n",
        "---\n",
        "\n"
      ]
    },
    {
      "cell_type": "markdown",
      "metadata": {
        "id": "7QbClP-5yKVi"
      },
      "source": [
        "#Petunjuk Penting !!\n",
        "\n",
        "## Lakukan Inisialisasi Java Kompailer untuk Google Colab\n",
        "Notebook ini menggunakan Java di Google Colaboratory sebagai kompailer. Untuk itu lakukan dua langkah dibawah ini sebelum anda bekerja dengan notebook ini\n",
        "\n",
        "1. Jalankan perintah pada cell diabawah ini (klik tombol run atau tekan tombol `Shift`+`Enter` secara bersamaan)"
      ]
    },
    {
      "cell_type": "code",
      "metadata": {
        "id": "lUr92Wb1yzXm"
      },
      "source": [
        "!apt update -q\n",
        "!apt-get install -q openjdk-11-jdk-headless\n",
        "!curl -L https://github.com/SpencerPark/IJava/releases/download/v1.3.0/ijava-1.3.0.zip -o ijava-kernel.zip\n",
        "!unzip -q ijava-kernel.zip -d ijava-kernel && cd ijava-kernel && python3 install.py --sys-prefix\n",
        "!jupyter kernelspec list"
      ],
      "execution_count": null,
      "outputs": []
    },
    {
      "cell_type": "markdown",
      "metadata": {
        "id": "05gvKabVzOQD"
      },
      "source": [
        "2. Kemudian refresh halaman notebook (page) (tekan tombol `F5`) atau that. atau tekan tombol refresh/reload. "
      ]
    },
    {
      "cell_type": "markdown",
      "metadata": {
        "id": "fizVCMLKzf8A"
      },
      "source": [
        "---\n"
      ]
    },
    {
      "cell_type": "markdown",
      "metadata": {
        "id": "VD3Bt8LiFs-E"
      },
      "source": [
        "# 9. Tipe Data Array\n",
        "\n",
        "## 9.1 Tujuan\n",
        "Pada pemrograman terstruktur, dimana setiap pernyataan dieksekusi setelah pernyataan sebelumnya sesuai dengan urutannya. Pada bagian ini, kita akan mempelajari tentang struktur kontrol dimana kita dapat mengubah cara eksekusi pada pernyataan yang dibuat di program kita.\n",
        "\n",
        "Pada akhir pembahasan, diharapkan pembaca dapat :\n",
        "\n",
        "1. Menggunakan struktur kontrol pengulangan (*while, do-while, for*) untuk mengeksekusi blok tertentu pada program beberapa kali.\n",
        "\n",
        "2. Menggunakan pernyataan-pernyataan percabangan (*break, continue, return*) yang digunakan untuk mengatur arah dari aliran program.\n",
        "\n"
      ]
    },
    {
      "cell_type": "code",
      "metadata": {
        "id": "2Z3StzAmTZb9"
      },
      "source": [
        "//Program 6.6 Program Nested IF"
      ],
      "execution_count": null,
      "outputs": []
    },
    {
      "cell_type": "markdown",
      "metadata": {
        "id": "jOubBl-jM2Yl"
      },
      "source": [
        "## 9.x Video Materi\n",
        "\n",
        "\n",
        "<a href=\"http://www.youtube.com/watch?feature=player_embedded&v=T3ff57rxTa8\n",
        "\" target=\"_blank\"><img src=\"http://img.youtube.com/vi/T3ff57rxTa8/0.jpg\" \n",
        "alt=\"Exeception Handling\" width=\"480\" height=\"360\" border=\"10\" /></a>\n",
        "\n",
        "https://www.youtube.com/watch?v=T3ff57rxTa8\n"
      ]
    },
    {
      "cell_type": "markdown",
      "metadata": {
        "id": "1BF-A0oPrBL_"
      },
      "source": [
        "## **Tugas V**\n",
        "\n",
        "berikut ini model bisinis seperti ini di sebuah toko. Ketika orang membayar di kasir, akan ditanya ada kartu member untuk mendapatkan diskon. Berikut ini algoritma  *pseudocode* yang di terapakan\n",
        "\n",
        "```\n",
        "Apakah pembeli member?\n",
        "   - jika member\n",
        "        - Jenis Member Apakah?\n",
        "\t\t   - Jika Siver \n",
        "\t\t\t\t* Apakah belanjaan anda lebih dari 100rb?\n",
        "\t\t\t\t   # Jika ya : mendapatkan diskon 10rb\n",
        "\t\t\t   * Apakah belanjaan anda lebih dari 500rb?\n",
        "\t\t\t\t   # Jika ya : mendapatkan diskon 20rb\n",
        "\t\t   - Jika Gold\n",
        "\t\t\t\t* Apakah belanjaan anda lebih dari 100rb?\n",
        "\t\t\t\t   # Jika ya : mendapatkan diskon 15rb\n",
        "\t\t\t   * Apakah belanjaan anda lebih dari 500rb?\n",
        "\t\t\t\t   # Jika ya : mendapatkan diskon 25rb\n",
        "\t\t   - Jika Platinum\n",
        "\t\t\t\t* Apakah belanjaan anda lebih dari 100rb?\n",
        "\t\t\t\t   # Jika ya : mendapatkan diskon 20rb\n",
        "\t\t\t   * Apakah belanjaan anda lebih dari 500rb?\n",
        "\t\t\t\t   # Jika ya : mendapatkan diskon 35rb\n",
        "   - jika tidak member\n",
        "       * Apakah belanjaan anda lebih dari 100rb?\n",
        "           # ya : mendapatkan diskon 5rb\n",
        "           # tidak: tidak mendapatkan diskon\n",
        "```\n",
        "\n",
        "\n",
        "\n",
        "**No. 1**\n",
        "\n",
        "Implementasikan  *pseudocode* diatas dengan percabangan kontrol *if*? \n",
        "\n"
      ]
    },
    {
      "cell_type": "code",
      "metadata": {
        "id": "L2yg_WPDznDg"
      },
      "source": [
        "//Jawab Tugas IV Soal 1"
      ],
      "execution_count": null,
      "outputs": []
    },
    {
      "cell_type": "markdown",
      "metadata": {
        "id": "cdgrSjRr0Eq5"
      },
      "source": [
        "**No. 2**\n",
        "\n",
        "Implementasikan  *pseudocode* diatas dengan percabangan kontrol *switch*? "
      ]
    },
    {
      "cell_type": "code",
      "metadata": {
        "id": "qnnQqrF05px3"
      },
      "source": [
        "//Jawaban Tugas IV No 2"
      ],
      "execution_count": null,
      "outputs": []
    },
    {
      "cell_type": "markdown",
      "metadata": {
        "id": "zT6nxQWwvlLR"
      },
      "source": [
        "## Soal UTS"
      ]
    },
    {
      "cell_type": "markdown",
      "metadata": {
        "id": "oQcUp680vy42"
      },
      "source": [
        "-- Tidak Ada Soal-"
      ]
    }
  ]
}