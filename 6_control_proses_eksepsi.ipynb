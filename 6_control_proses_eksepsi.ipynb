{
  "nbformat": 4,
  "nbformat_minor": 0,
  "metadata": {
    "colab": {
      "name": "6_control_proses_eksepsi.ipynb",
      "provenance": [],
      "collapsed_sections": []
    },
    "kernelspec": {
      "name": "java",
      "display_name": "Java"
    },
    "language_info": {
      "name": "java"
    }
  },
  "cells": [
    {
      "cell_type": "code",
      "metadata": {
        "id": "iikHUtEExLIP"
      },
      "source": [
        ""
      ],
      "execution_count": null,
      "outputs": []
    },
    {
      "cell_type": "markdown",
      "metadata": {
        "id": "bUB6YkbKzq6e"
      },
      "source": [
        "\n",
        "\n",
        "---\n",
        "\n"
      ]
    },
    {
      "cell_type": "markdown",
      "metadata": {
        "id": "7QbClP-5yKVi"
      },
      "source": [
        "#Petunjuk Penting !!\n",
        "\n",
        "## Lakukan Inisialisasi Java Kompailer untuk Google Colab\n",
        "Notebook ini menggunakan Java di Google Colaboratory sebagai kompailer. Untuk itu lakukan dua langkah dibawah ini sebelum anda bekerja dengan notebook ini\n",
        "\n",
        "1. Jalankan perintah pada cell diabawah ini (klik tombol run atau tekan tombol `Shift`+`Enter` secara bersamaan)"
      ]
    },
    {
      "cell_type": "code",
      "metadata": {
        "id": "lUr92Wb1yzXm"
      },
      "source": [
        "ini java compiler"
      ],
      "execution_count": null,
      "outputs": []
    },
    {
      "cell_type": "markdown",
      "metadata": {
        "id": "05gvKabVzOQD"
      },
      "source": [
        "2. Kemudian refresh halaman notebook (page) (tekan tombol `F5`) atau that. atau tekan tombol refresh/reload. "
      ]
    },
    {
      "cell_type": "markdown",
      "metadata": {
        "id": "fizVCMLKzf8A"
      },
      "source": [
        "---\n"
      ]
    },
    {
      "cell_type": "markdown",
      "metadata": {
        "id": "VD3Bt8LiFs-E"
      },
      "source": [
        "# 8. Pengenalan Eksepsi\n",
        "\n",
        "## 8.1 Tujuan\n",
        "Dalam bagian ini, kita akan mempelajari teknik yang dipakai dalam Java dalam menangani kondisi\n",
        "yang tidak biasa dalam menjalankan operasi normal dalam program. Teknik ini dinamakan ***exception handling***.\n",
        "Pada akhir pembahasan, diharapkan pembaca dapat :\n",
        "1. Mendefinisikan ***exception***\n",
        "2. Menangani exception menggunakan blok ***try-catch-finally***\n",
        "\n",
        "## 8.2 Apa itu Exception?\n",
        "**Exception** adalah sebuah peristiwa yang menjalankan alur proses normal pada program. Peristiwa\n",
        "ini biasanya berupa kesalahan(*error*) dari beberapa bentuk. Ini disebabkan program kita berakhir\n",
        "tidak normal.\n",
        "\n",
        "## 8.3 Penanganan Eksepsi Pada Pemrograman Java\n",
        "Agar kesalahan karena eksepsi dapat di kendalikan, eksepsi perlu \"ditangkap\" (*catch*). untuk menangkap eksepsi java menyediakan pernyataan try. pernyataan ini memiliki dua buah bentuk.\n",
        "\n",
        "Cara penggunaan penanganan eksepsi.\n",
        "### 8.3.1. menangkap eksepsi bentuk Pertama //try-catch :\n",
        "\n",
        "**Program 8.3.1.** menangkap eksepsi bentuk Pertama\n",
        "```javascript\n",
        "try {\n",
        " // Blok yang akan di tangkap jika terjadi eksepsi\n",
        " }catch (<exceptionType1> <varName1>){\n",
        " // Blok yang akan di jalankan kalau terjadi eksepsi\n",
        " }\n",
        "```\n",
        "contoh eksepsi bentuk pertama\n",
        "```javascript\n",
        "        try {\n",
        "            int hitung = 8 / 0;\n",
        "            System.out.println(\"hasil = \" + hitung);\n",
        "        } catch (Throwable t) {\n",
        "            System.err.print(\"error !! terjadi pembagian nol\");\n",
        "        }\n",
        "        System.out.println(\"sukses melewati eksepsi\");\n",
        "```\n"
      ]
    },
    {
      "cell_type": "code",
      "metadata": {
        "id": "MRwZSTDDsy00"
      },
      "source": [
        "   //Implementasi Program 8.3.1. menangkap eksepsi bentuk Pertama"
      ],
      "execution_count": null,
      "outputs": []
    },
    {
      "cell_type": "markdown",
      "metadata": {
        "id": "th5UNCNas0pg"
      },
      "source": [
        "**penjelasan :**\n",
        "1. ketika program di jalankan statement pada blok try akan di jalankan lebih dulu.\n",
        "\n",
        "2. statement 8 / 0 akan terjadi error (terjadi eksepsi)\n",
        "3. jika pada blok try terjadi error (terjadi eksepsi), maka blok catch akan di jalankan\n",
        "4. dan jika saja blok try nilainya true atau tidak terjadi error maka  blok catch tidak akan di jalankan.\n",
        "5. karena adannya penangkapan eksepsi maka statement\n",
        "\n",
        "```\n",
        "// System.out.println(\"sukses melewati eksepsi\"); akan tetap jalan.\n",
        "```\n"
      ]
    },
    {
      "cell_type": "markdown",
      "metadata": {
        "id": "38DQacocucgY"
      },
      "source": [
        "### 8.3.2. selanjutnnya menangkap eksepsi bentuk kedua //try-finally :\n",
        "\n",
        "\n",
        "```javascript\n",
        "try {\n",
        " // Blok yang akan di tangkap jika terjadi eksepsi\n",
        " }finally{\n",
        " // Blok yang akan di jalankan kalau terjadi eksepsi\n",
        " }\n",
        "```\n",
        "contoh penangkapan eksepsi bentuk kedua :\n",
        "\n",
        "**Program 8.3.2.** menangkap eksepsi bentuk kedua\n",
        "```javascript\n",
        "     try {\n",
        "            int hitung = 8 / 0;\n",
        "            System.out.println(\"hasil = \" + hitung);\n",
        "        } finally {\n",
        "            System.err.print(\"menjalankan blok finally\");\n",
        "        }\n",
        "        System.out.println(\"sukses melewati eksepsi\");\n",
        "```"
      ]
    },
    {
      "cell_type": "code",
      "metadata": {
        "id": "-i4Fe7GPu6Z5"
      },
      "source": [
        "//Implentasi Program 8.3.2 menangkap eksepsi bentuk Pertama"
      ],
      "execution_count": null,
      "outputs": []
    },
    {
      "cell_type": "markdown",
      "metadata": {
        "id": "1ALXX5PHvT0r"
      },
      "source": [
        "**penjelasan :**\n",
        "1. ketika program di jalankan statement pada blok try akan di jalankan lebih dulu.\n",
        "2. statement 8 / 0 akan terjadi error (terjadi eksepsi)\n",
        "3. dan pada blok finally akan di jalankan, tidak tergantung apakah bagian blok try mengalami eksepsi atau tidak.\n",
        "4. karena adannya penangkapan eksepsi maka statement\n",
        "\n",
        "\n",
        "```\n",
        "\n",
        "// System.out.println(\"sukses melewati eksepsi\"); akan tetap jalan.\n",
        "\n",
        "```\n"
      ]
    },
    {
      "cell_type": "markdown",
      "metadata": {
        "id": "Dqq6MEXPvdus"
      },
      "source": [
        "### 8.3.3. Penggabungan eksepsi bentuk kedua dan pertama  :\n",
        "\n",
        "Exception dilemparkan selama eksekusi dari blok try dapat ditangkap dan ditangani dalam blok\n",
        "catch. Kode dalam blok finally selalu di-eksekusi.\n",
        "\n",
        "\n",
        "```javascript\n",
        "try {\n",
        "  // Blok yang akan di tangkap jika terjadi eksepsi\n",
        " }catch (<exceptionType1> <varName1>){\n",
        "  // Blok yang akan di jalankan kalau terjadi eksepsi\n",
        " }finally {\n",
        "  //System.err.print(\"menjalankan blok finally\");\n",
        " }\n",
        "```\n",
        "\n",
        "\n",
        "\n",
        "Berikut ini adalah aspek kunci tentang sintak dari konstruksi try-catch-finally:\n",
        "1. Notasi blok bersifat perintah\n",
        "2. Setiap blok try, terdapat satu atau lebih blok catch, tetapi hanya satu blok finally.\n",
        "3. Blok catch dan blok finally harus selalu muncul dalam konjungsi dengan blok try, dan diatas\n",
        "urutan\n",
        "4. Blok try harus diikuti oleh paling sedikit satu blok catch ATAU satu blok finally, atau\n",
        "keduanya.\n",
        "5. Setiap blok catch mendefinisikan sebuah penanganan exception. Header dari blok catch\n",
        "harus membawa satu argumen, dimana exception pada blok tersebut akan ditangani.\n",
        "Exception harus menjadi class pelempar atau satu dari subclassesnya.\n",
        "\n",
        "contoh penggunaan penggabungan eksepsi\n",
        "\n",
        "**Program 8.3.3.** Penggabungan menangkap eksepsi bentuk pertama dan kedua\n",
        "\n",
        "```javascript\n",
        "    try {\n",
        "            int hitung = 8 / 0;\n",
        "            System.out.println(\"hasil = \" + hitung);\n",
        "        } catch (Throwable t) {\n",
        "            System.err.print(\"error !! terjadi pembagian nol\");\n",
        "        } finally {\n",
        "            System.err.print(\"menjalankan blok finally\");\n",
        "        }\n",
        "        System.out.println(\"sukses melewati eksepsi\");\n",
        "    }\n",
        "```\n",
        "\n"
      ]
    },
    {
      "cell_type": "code",
      "metadata": {
        "id": "CEx-jYTfvyuW"
      },
      "source": [
        "//implemntasi Program 8.3.3. Penggabungan menangkap eksepsi"
      ],
      "execution_count": null,
      "outputs": []
    },
    {
      "cell_type": "markdown",
      "metadata": {
        "id": "1wIZEeV7w6RD"
      },
      "source": [
        "**penjelasan :**\n",
        "1. ketika program di jalankan statement pada blok try akan di jalankan lebih dulu.\n",
        "2. statement 8 / 0 akan terjadi error (terjadi eksepsi)\n",
        "3. jika pada blok try terjadi error (terjadi eksepsi), maka blok catch akan di jalankan.\n",
        "4. dan pada blok finally akan tetap jalankan, karena tidak tergantung apakah 5. bagian blok try mengalami eksepsi atau tidak.\n",
        "6. karena adannya penangkapan eksepsi maka statement\n",
        "\n",
        "\n",
        "\n",
        "```\n",
        "// System.out.println(\"sukses melewati eksepsi\"); akan tetap jalan.\n",
        "```\n",
        "\n",
        "dengan penangkapan eksepsi dengan try, kesalahan yang terjadi tidak mengakibatkan eksekusi program dihentikan.\n",
        "\n",
        "demikian penjelasan tentang pengenalan penanganan eksepsi pada pemrograman java"
      ]
    },
    {
      "cell_type": "markdown",
      "metadata": {
        "id": "jOubBl-jM2Yl"
      },
      "source": [
        "## 8.x Video Materi\n",
        "\n",
        "\n",
        "<a href=\"http://www.youtube.com/watch?feature=player_embedded&v=T3ff57rxTa8\n",
        "\" target=\"_blank\"><img src=\"http://img.youtube.com/vi/T3ff57rxTa8/0.jpg\" \n",
        "alt=\"Exeception Handling\" width=\"480\" height=\"360\" border=\"10\" /></a>\n",
        "\n",
        "https://www.youtube.com/watch?v=T3ff57rxTa8\n"
      ]
    },
    {
      "cell_type": "markdown",
      "metadata": {
        "id": "1BF-A0oPrBL_"
      },
      "source": [
        "## **Tugas VI**\n",
        "\n",
        "Implentasikan Program 8.3.1, Program 8.3.2 dan Program 8.3.3 diatas amati hasilnya dan tuliskan kesimpulan dibawah ini "
      ]
    },
    {
      "cell_type": "markdown",
      "metadata": {
        "id": "cdgrSjRr0Eq5"
      },
      "source": [
        "**JAWAB**\n",
        "\n",
        "........."
      ]
    },
    {
      "cell_type": "markdown",
      "metadata": {
        "id": "zT6nxQWwvlLR"
      },
      "source": [
        "## Soal UAS I\n",
        "Berikut ini ada kode java operasi pembagian integer. Implementasikan Eksepsi pada kode dibawah ini.\n",
        "\n",
        "```javascript\n",
        "\n",
        "        int x = 10;\n",
        "\n",
        "        x = x / 0;\n",
        "\n",
        "        System.out.println(x);\n",
        "\n",
        "        System.out.println(\"akhir program\");\n",
        "```"
      ]
    },
    {
      "cell_type": "code",
      "metadata": {
        "id": "cELXKSeFznoe"
      },
      "source": [
        "//Jawab SOAL UTS I"
      ],
      "execution_count": null,
      "outputs": []
    }
  ]
}
