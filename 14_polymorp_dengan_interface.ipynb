{
  "cells": [
    {
      "cell_type": "markdown",
      "metadata": {
        "id": "view-in-github",
        "colab_type": "text"
      },
      "source": [
        "<a href=\"https://colab.research.google.com/github/rahmadsa/Pemrograman-Java/blob/main/14_polymorp_dengan_interface.ipynb\" target=\"_parent\"><img src=\"https://colab.research.google.com/assets/colab-badge.svg\" alt=\"Open In Colab\"/></a>"
      ]
    },
    {
      "cell_type": "markdown",
      "metadata": {
        "id": "bUB6YkbKzq6e"
      },
      "source": [
        "\n",
        "\n",
        "---\n",
        "\n"
      ]
    },
    {
      "cell_type": "markdown",
      "metadata": {
        "id": "7QbClP-5yKVi"
      },
      "source": [
        "### Petunjuk Penting !!\n",
        "\n",
        "####  Lakukan Inisialisasi Java Kompailer untuk Google Colab\n",
        "Notebook ini menggunakan Java di Google Colaboratory sebagai kompailer. Untuk itu lakukan dua langkah dibawah ini sebelum anda bekerja dengan notebook ini\n",
        "\n",
        "1. Jalankan perintah pada cell diabawah ini (klik tombol run atau tekan tombol `Shift`+`Enter` secara bersamaan)"
      ]
    },
    {
      "cell_type": "code",
      "execution_count": null,
      "metadata": {
        "id": "lUr92Wb1yzXm"
      },
      "outputs": [],
      "source": [
        "//init java please..."
      ]
    },
    {
      "cell_type": "markdown",
      "metadata": {
        "id": "05gvKabVzOQD"
      },
      "source": [
        "2. Kemudian refresh halaman notebook (page) (tekan tombol `F5`) atau that. atau tekan tombol refresh/reload. "
      ]
    },
    {
      "cell_type": "markdown",
      "metadata": {
        "id": "fizVCMLKzf8A"
      },
      "source": [
        "---\n"
      ]
    },
    {
      "cell_type": "markdown",
      "metadata": {
        "id": "VD3Bt8LiFs-E"
      },
      "source": [
        "# 16. **Polimorpisme Dinamis Dengan Interface**\n",
        "\n",
        "***Interface*** adalah blue print dari class. \n",
        " Dan *Interface* adalah bentuk lain dari polymorphism dinamis.\n",
        "\n",
        "## 16.1 **Tujuan**\n",
        "Setelah mengikuti meteri ini mahasiswa diharapkan dapat :\n",
        "1. Mahasiswa memahami konsep *polymorphism* Dinamis dalam PBO\n",
        "2. Mahasiswa memahami dan mampu membuat class interface dalam PBO\n",
        "3. Mahasiswa mampu menerapkan konsep  *dynamic polymorphism* dengan class interface dalam PBO\n",
        "\n",
        "\n"
      ]
    },
    {
      "cell_type": "markdown",
      "source": [
        "## 16.2. **Uraian Materi**\n",
        "\n",
        "Isi dari method-method didalam *interfacace* kosong dan nanti akan diimplementasikan pada class lain.\n",
        "\n",
        "*Interface* memang tak memiliki isi method dan pada materi sebelumnya kita telah mempraktekanya.\n",
        "\n",
        "*Interface* untuk contoh bentuk Polimorfisme yang lebih Kompleks.\n",
        "\n",
        "Secara umum, interface berfungsi sebagai penghubung antara sesuatu yang ‘abstrak’ dengan sesuatu yang nyata.\n",
        "\n"
      ],
      "metadata": {
        "id": "ZZAwsOE8NbRt"
      }
    },
    {
      "cell_type": "markdown",
      "source": [
        "## 16.2.1 **Contoh Penggunaan Interface**\n",
        "\n",
        "Berikut ini adalah bagan UML tentang contoh komsep polimorp.\n",
        "\n",
        "![UML Contoh struktur class interface](https://github.com/rahmadsa/Pemrograman-Java/blob/main/images/interfacephoneuml.png?raw=true)\n",
        "\n",
        "dari baga UML diatas kita akan implementasikan kedalam kode Java\n",
        "\n",
        "Pertama kita akan membuat class baru dengan nama **Phone** dan isi kodenya seperti ini:\n",
        "\n",
        "```javascript\n",
        "public interface Phone {\n",
        "    int MAX_VOLUME = 100;\n",
        "    int MIN_VOLUME = 0;\n",
        "    \n",
        "    void powerOn();\n",
        "    void powerOff();\n",
        "    void volumeUp();\n",
        "    void volumeDown();\n",
        "}\n",
        "```\n",
        "\n",
        "Selanjutny kita membuat lagi class baru dengan nama **PhoneUser **dan struktur kode sebagai berikut:\n",
        "\n",
        "\n",
        "```javascript\n",
        "public class PhoneUser {\n",
        "    \n",
        "    private Phone phone;\n",
        "\n",
        "    public PhoneUser(Phone phone) {\n",
        "        this.phone = phone;\n",
        "    }\n",
        "    \n",
        "    void turnOnThePhone(){\n",
        "        this.phone.powerOn();\n",
        "    }\n",
        "    \n",
        "    void turnOffThePhone(){\n",
        "        this.phone.powerOff();\n",
        "    }\n",
        "    \n",
        "    void makePhoneLouder(){\n",
        "        this.phone.volumeUp();\n",
        "    }\n",
        "    \n",
        "    void makePhoneSilent(){\n",
        "        this.phone.volumeDown();\n",
        "    }\n",
        "}\n",
        "```\n",
        "\n",
        "Berikutnya kita akan membuat class implementasi dari **interface Phone**. \n",
        "\n",
        "Kemudian selanjutnya kita membuat class baru dengan nama **Xiaomi**, kemudian isi kodenya seperti ini:\n",
        "\n",
        "```javascript\n",
        "public class Xiaomi implements Phone {\n",
        "\n",
        "    private int volume;\n",
        "    private boolean isPowerOn;\n",
        "\n",
        "    public Xiaomi() {\n",
        "        // set volume awal\n",
        "        this.volume = 50;\n",
        "    }\n",
        "\n",
        "    @Override\n",
        "    public void powerOn() {\n",
        "        isPowerOn = true;\n",
        "        System.out.println(\"Handphone menyala...\");\n",
        "        System.out.println(\"Selamat datang di XIAOMI\");\n",
        "        System.out.println(\"Android version 29\");\n",
        "    }\n",
        "\n",
        "    @Override\n",
        "    public void powerOff() {\n",
        "        isPowerOn = false;\n",
        "        System.out.println(\"Handphone dimatikan\");\n",
        "    }\n",
        "\n",
        "    @Override\n",
        "    public void volumeUp() {\n",
        "        if (isPowerOn) {\n",
        "            if (this.volume == MAX_VOLUME) {\n",
        "                System.out.println(\"Volume FULL!!\");\n",
        "                System.out.println(\"sudah \" + this.getVolume() + \"%\");\n",
        "            } else {\n",
        "                this.volume += 10;\n",
        "                System.out.println(\"Volume sekarang: \" + this.getVolume());\n",
        "            }\n",
        "        } else {\n",
        "            System.out.println(\"Nyalakan dulu donk HP-nya!!\");\n",
        "        }\n",
        "    }\n",
        "\n",
        "    @Override\n",
        "    public void volumeDown() {\n",
        "        if (isPowerOn) {\n",
        "            if (this.volume == MIN_VOLUME) {\n",
        "                System.out.println(\"Volume = 0%\");\n",
        "            } else {\n",
        "                this.volume -= 10;\n",
        "                System.out.println(\"Volume sekarang: \" + this.getVolume());\n",
        "            }\n",
        "        } else {\n",
        "            System.out.println(\"Nyalakan dulu donk HP-nya!!\");\n",
        "        }\n",
        "    }\n",
        "\n",
        "    public int getVolume() {\n",
        "        return this.volume;\n",
        "    }\n",
        "\n",
        "}\n",
        "```\n",
        "\n",
        "Penerapan instanisasi objek class - class diatas adalah  sebagai berikut:\n",
        "\n",
        "```javascript\n",
        "\n",
        "       import java.util.Scanner;\n",
        "       // membuat objek HP\n",
        "\t   \n",
        "        Phone redmiNote8 = new Xiaomi();\n",
        "\n",
        "        // membuat objek user\n",
        "        PhoneUser dian = new PhoneUser(redmiNote8);\n",
        "\n",
        "        // kita coba nyalakan HP-nya\n",
        "        dian.turnOnThePhone();\n",
        "        \n",
        "        // biar enak, kita buat dalam program\n",
        "        Scanner input = new Scanner(System.in);\n",
        "        String aksi; \n",
        "\n",
        "        while (true) {\n",
        "            System.out.println(\"=== APLIKASI INTERFACE ===\");\n",
        "            System.out.println(\"[1] Nyalakan HP\");\n",
        "            System.out.println(\"[2] Matikan HP\");\n",
        "            System.out.println(\"[3] Perbesar Volume\");\n",
        "            System.out.println(\"[4] Kecilkan Volume\");\n",
        "            System.out.println(\"[0] Keluar\");\n",
        "            System.out.println(\"--------------------------\");\n",
        "            System.out.print(\"Pilih aksi> \");\n",
        "            aksi = input.nextLine();\n",
        "            \n",
        "            if(aksi.equalsIgnoreCase(\"1\")){\n",
        "                dian.turnOnThePhone();\n",
        "            } else if (aksi.equalsIgnoreCase(\"2\")){\n",
        "                dian.turnOffThePhone();\n",
        "            } else if (aksi.equalsIgnoreCase(\"3\")){\n",
        "                dian.makePhoneLouder();\n",
        "            } else if (aksi.equalsIgnoreCase(\"4\")){\n",
        "                dian.makePhoneSilent();\n",
        "            } else if (aksi.equalsIgnoreCase(\"0\")){\n",
        "                System.exit(0);\n",
        "            } else {\n",
        "                System.out.println(\"Kamu memilih aksi yang salah!\");\n",
        "            }\n",
        "        }\n",
        "```\n",
        "\n",
        "Kalau kita perhatikan di dalam implementasi objek kita hanya menggunakan objek dari **class PhoneUser** saja.\n",
        "\n",
        "Mari kita cermati kode-kode berikut ini:\n",
        "```javascript\n",
        "dian.turnOnThePhone();\n",
        "dian.turnOnThePhone();\n",
        "dian.turnOffThePhone();\n",
        "dian.makePhoneLouder();\n",
        "dian.makePhoneSilent();\n",
        "```\n",
        "Pada saat kita memanggil method-method ini, maka method yang ada di dalam objek **redmiNote8** yang akan dipanggil.\n",
        "\n",
        "Disebankan karena mereka terhubung dengan interface.\n",
        "\n"
      ],
      "metadata": {
        "id": "a4-iV655OBhA"
      }
    },
    {
      "cell_type": "markdown",
      "source": [
        "## 16.2.2 **Latarbelakang Pemakaian Interface**\n",
        "\n",
        "Kenapa harus menggunakan Interface?\n",
        "Sebenarnya kita tidak harus selalu menggunakan interface. Tapi dalam kasus tertentu, interface akan sangat berguna.\n",
        "\n",
        "Misalnya gini:\n",
        "\n",
        "Kita tahu objek PhoneUser membutuhkan objek dari handphone. Tanpa objek handphone, si objek user tidak akan bisa kita buat.\n",
        "\n",
        "Ini karena kita menetapkan pada konstruktornya.\n",
        "\n",
        "Btw, ini juga disebut hubungan *dependency*..\n",
        "\n",
        "![UML Contoh struktur class interface](https://github.com/rahmadsa/Pemrograman-Java/blob/main/images/interfacephonecode.png?raw=true)\n",
        "\n",
        "\n",
        "Class PhoneUser\n",
        "Nah, di sana kita menggunakan interface Phone untuk membuat objek dependency-nya.\n",
        "\n",
        "Kalau gak pakai interface memangnya kenapa?\n",
        "\n",
        "Untuk menjawab pertanyaan ini, mari kita coba ubah Phone menjadi Xiaomi.\n",
        "\n",
        "![UML Contoh struktur class interface](https://github.com/rahmadsa/Pemrograman-Java/blob/main/images/interfacexiomicode.png?raw=true)\n",
        "\n",
        "\n",
        "Class PhoneUser menggunakan Xiaomi\n",
        "Apa yang akan terjadi?\n",
        "\n",
        "Untuk saat ini tidak akan terjadi apa-apa. Tapi sekarang bagaimana kalau kita punya objek baru dari class yang mengimplementasikan interface Phone juga.\n",
        "\n",
        "Kita sebut saja objek baru tersebut adalah iPhoneX yang merupakan instance dari class IPhone.\n",
        "\n",
        "![UML Contoh struktur class interface](https://github.com/rahmadsa/Pemrograman-Java/blob/main/images/interfacemaincode.png?raw=true)\n",
        "\n",
        "\n",
        "Phoneuser menggunakan objek **iphonex**\n",
        "Maka objek **iPhoneX** tidak akan bisa diberikan kepada objek **PhoneUser**. Karena di konstruktornya dia cuma bisa pakai Xiaomi saja.\n",
        "\n",
        "Jadi.. mengapa kita harus pakai interface?\n",
        "\n",
        "*Interface* akan membuat si objek **PhoneUser** bisa menggunakan objek handphone apapun, dengan syarat objek handphone tersebut harus mengimplementasikan method dari *interface Phone*.\n"
      ],
      "metadata": {
        "id": "NiVNyakDQAvb"
      }
    },
    {
      "cell_type": "markdown",
      "source": [
        "##15.2.4. **Hal Yang Tidak Bisa Dilakukan Deengan Interface**\n",
        "\n",
        "Ada beberapa hal yang tidak boleh kamu lakukan saat membuat interface:\n",
        "\n",
        "> Tidak diperbolehkan mebuat variabel di dalam interface, tetapi diperbolehkan membuat konstanta;\n",
        "\n",
        "> Jangan mengisi method-nya, cukup tuliskan nama method, tipe data, dan parameter saja. Tapi untuk default metod boleh punya isi.\n",
        "\n",
        "> Jangan berikan modifier private atauapun protected pada method dan konstanta yang ada di dalam interface.\n",
        "\n",
        "> Interface tidak bisa dibuat objek instance-nya dengan kata kunci new."
      ],
      "metadata": {
        "id": "iMeduuXDRJs0"
      }
    },
    {
      "cell_type": "markdown",
      "source": [
        "##15.2.5 Latihan\n",
        "![UML Contoh struktur class interface](https://github.com/rahmadsa/Pemrograman-Java/blob/main/images/interfacephoneuml.png?raw=true)\n",
        "\n",
        "Lengkapilah kode sesuai bagan UML diatas"
      ],
      "metadata": {
        "id": "yshEKy0BSPaz"
      }
    },
    {
      "cell_type": "code",
      "source": [
        "//15.2.5 Latihan"
      ],
      "metadata": {
        "id": "-jTl_41DSgmf"
      },
      "execution_count": null,
      "outputs": []
    }
  ],
  "metadata": {
    "colab": {
      "collapsed_sections": [],
      "name": "14_polymorp_dengan_interface.ipynb",
      "provenance": [],
      "include_colab_link": true
    },
    "kernelspec": {
      "display_name": "Java",
      "language": "java",
      "name": "java"
    },
    "language_info": {
      "codemirror_mode": "java",
      "file_extension": ".jshell",
      "mimetype": "text/x-java-source",
      "name": "java",
      "pygments_lexer": "java",
      "version": "17.0.1+12-LTS-39"
    },
    "toc": {
      "base_numbering": 1,
      "nav_menu": {},
      "number_sections": false,
      "sideBar": false,
      "skip_h1_title": false,
      "title_cell": "Table of Contents",
      "title_sidebar": "Contents",
      "toc_cell": false,
      "toc_position": {},
      "toc_section_display": false,
      "toc_window_display": false
    }
  },
  "nbformat": 4,
  "nbformat_minor": 0
}